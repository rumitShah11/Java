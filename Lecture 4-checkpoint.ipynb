{
 "cells": [
  {
   "cell_type": "code",
   "execution_count": 1,
   "id": "5e1d0999",
   "metadata": {},
   "outputs": [],
   "source": [
    "# TUPLES AND DICTIONARIES AND SETS"
   ]
  },
  {
   "cell_type": "code",
   "execution_count": null,
   "id": "8a137e47",
   "metadata": {},
   "outputs": [],
   "source": [
    "# DICTIONARY IN PYTHON:\n",
    "\n",
    "# (MUTABLE, NOT ORDERED, UNIQUE KEYS)\n",
    "\"\"\"\n",
    "A dictionary is an unordered collection of data in a key-value pair format.\n",
    "Each value in a dictionary is accessed using a unique key.\n",
    "\"\"\"\n",
    "\n",
    "# CREATING A DICTIONARY\n",
    "\"\"\"\n",
    "my_dict = {\"key1\": \"value1\", \n",
    "           \"key2\": \"value2\", \n",
    "           \"key3\": \"value3\"}\n",
    "\n",
    "    - Dictionaries are created using curly braces {}.\n",
    "    - Key-value pairs are separated by colons : and elements are separated by commas.\n",
    "\"\"\"\n",
    "\n",
    "# ACCESSING THE VALUES IN DICTIONARY\n",
    "\"\"\"\n",
    "Values in a dictionary are accessed using keys.\n",
    "\n",
    "my_dict = {\"name\": \"Alice\", \"age\": 30}\n",
    "print(my_dict[\"name\"])  # Access the value for the key \"name\"\n",
    "\"\"\"\n",
    "\n",
    "# DICTIONARY CHARACTERISTICS\n",
    "\"\"\"\n",
    "    1. Order: Unlike sequences (e.g., lists, tuples), dictionaries are not ordered till python versons older than 3.7. After v3.7, they are ordered.\n",
    "    2. Mutable: Dictionaries can be modified (items can be added, removed, or modified).\n",
    "    3. Unique: Keys in a dictionary must be unique.\n",
    "\"\"\""
   ]
  },
  {
   "cell_type": "code",
   "execution_count": 1,
   "id": "89510979",
   "metadata": {},
   "outputs": [
    {
     "name": "stdout",
     "output_type": "stream",
     "text": [
      "Updated Student Info: {'name': 'Alice', 'age': 26, 'course': 'Python', 'location': 'New York'}\n"
     ]
    }
   ],
   "source": [
    "# MODIFYING A DICTIONARY\n",
    "\n",
    "# ADDING ITEMS TO A DICTIONARY\n",
    "\"\"\"\n",
    "    - To add a new key-value pair to a dictionary, you simply assign a value to a new key.\n",
    "    - SYNTAX IS:\n",
    "        my_dict = {\"name\": \"Alice\", \"age\": 30}\n",
    "        my_dict[\"location\"] = \"New York\"\n",
    "\"\"\"\n",
    "\n",
    "# MODIFYING ITEMS IN A DICTIONARY\n",
    "\"\"\"\n",
    "    - To modify an existing value associated with a key in a dictionary, you can simply reassign a new value to that key.\n",
    "    - SYNTAX IS:\n",
    "        my_dict = {\"name\": \"Alice\", \"age\": 30}\n",
    "        my_dict[\"age\"] = 31  # Update the value for the key \"age\"\n",
    "\"\"\"\n",
    "\n",
    "\n",
    "\n",
    "# QUESTION\n",
    "\"\"\"\n",
    "A dictionary has been defined for you in the IDE. You need to do the following:\n",
    "\n",
    "    - Add a new key as \"location\" and its value as \"New York\"\n",
    "    - Update the \"age\" as 26\n",
    "    - Print the updated dictionary to the console\n",
    "\"\"\"\n",
    "\n",
    "# Update the code below to get the necessart output\n",
    "student_info = {\"name\": \"Alice\", \n",
    "                \"age\": 25, \n",
    "                \"course\": \"Python\"}\n",
    "\n",
    "# Adding a new key-value pair\n",
    "student_info[\"location\"] = \"New York\"\n",
    "\n",
    "# Modifying an existing value\n",
    "student_info[\"age\"] = 26\n",
    "\n",
    "print(\"Updated Student Info:\", student_info)"
   ]
  },
  {
   "cell_type": "code",
   "execution_count": 2,
   "id": "3c3a79c8",
   "metadata": {},
   "outputs": [
    {
     "name": "stdout",
     "output_type": "stream",
     "text": [
      "{'name': 'Alice', 'age': 25}\n",
      "Removed Age: 25\n",
      "Updated Student Info: {}\n"
     ]
    }
   ],
   "source": [
    "# REMOVING ITEMS FROM A DICTIONARY\n",
    "\"\"\"\n",
    "    - Removing items from a dictionary involves deleting key-value pairs.\n",
    "    - Dictionaries provide different methods to remove elements based on keys.\n",
    "\"\"\"\n",
    "\n",
    "# 1. del: Allows you to remove a specific key-value pair from the dictionary.\n",
    "\"\"\"\n",
    "SYNTAX IS:\n",
    "    my_dict = {\"name\": \"Alice\", \"age\": 30}\n",
    "    del my_dict[\"age\"]  # Remove the key \"age\" and its corresponding value\n",
    "\"\"\"\n",
    "\n",
    "# 2. pop(): Removes a specified key and returns the corresponding value.\n",
    "\"\"\"\n",
    "SYNTAX IS:\n",
    "    my_dict = {\"name\": \"Alice\", \"age\": 30}\n",
    "    removed_age = my_dict.pop(\"age\")  # Remove the key \"age\" and retrieve its value\n",
    "\"\"\"\n",
    "\n",
    "# 3. clear(): Removes all key-value pairs from the dictionary, leaving it empty.\n",
    "\"\"\"\n",
    "SYNTAX IS:\n",
    "    my_dict = {\"name\": \"Alice\", \"age\": 30}\n",
    "    my_dict.clear()  # Clear all key-value pairs\n",
    "\"\"\"\n",
    "\n",
    "# EG FOR REMOVING ITEMS FROM DICTIONARY:\n",
    "# Given Dictionary:\n",
    "student_info = {\"name\": \"Alice\", \"age\": 25, \"course\": \"Python\"}\n",
    "\n",
    "# Using del to remove a specific key-value pair\n",
    "del student_info[\"course\"]\n",
    "print(student_info)\n",
    "\n",
    "# Using pop() to remove and retrieve a specific key-value pair\n",
    "removed_age = student_info.pop(\"age\")\n",
    "print(\"Removed Age:\", removed_age)\n",
    "\n",
    "# Using clear() to clear all key-value pairs\n",
    "student_info.clear()\n",
    "print(\"Updated Student Info:\", student_info)\n"
   ]
  },
  {
   "cell_type": "code",
   "execution_count": 4,
   "id": "48e1871b",
   "metadata": {},
   "outputs": [
    {
     "name": "stdout",
     "output_type": "stream",
     "text": [
      "Key: name , Value: Alice\n",
      "Key: age , Value: 25\n",
      "Key: course , Value: Python\n"
     ]
    }
   ],
   "source": [
    "# ITERATING OVER A DICTIONARY\n",
    "\"\"\"\n",
    "Iterating over a dictionary in Python allows you to access and process its elements, which are key-value pairs.\n",
    "\"\"\"\n",
    "\n",
    "# 1. Iterating Over Keys:\n",
    "\"\"\"\n",
    "By default - iterating over a dictionary iterates over its keys.\n",
    "\n",
    "my_dict = {\"name\": \"Alice\", \"age\": 30, \"location\": \"New York\"}\n",
    "for key in my_dict:\n",
    "    print(\"Key:\", key)\n",
    "\"\"\"\n",
    "\n",
    "# 2. Iterating Over Values:\n",
    "\"\"\"\n",
    "my_dict = {\"name\": \"Alice\", \"age\": 30, \"location\": \"New York\"}\n",
    "for value in my_dict.values():\n",
    "    print(\"Value:\", value)\n",
    "\"\"\"\n",
    "\n",
    "# 3. Iterating Over Key-Value Pairs:\n",
    "\"\"\"\n",
    "To iterate over key-value pairs, you can use the items() method.\n",
    "\n",
    "my_dict = {\"name\": \"Alice\", \"age\": 30, \"location\": \"New York\"}\n",
    "for key, value in my_dict.items():\n",
    "    print(\"Key:\", key, \", Value:\", value)\n",
    "\"\"\"\n",
    "\n",
    "# For eg:\n",
    "student_info = {\"name\": \"Alice\", \"age\": 25, \"course\": \"Python\"}\n",
    "\n",
    "for key, value in student_info.items():\n",
    "    print(\"Key:\", key, \", Value:\", value)"
   ]
  },
  {
   "cell_type": "code",
   "execution_count": 5,
   "id": "8eab2d47",
   "metadata": {},
   "outputs": [
    {
     "name": "stdout",
     "output_type": "stream",
     "text": [
      "True\n",
      "False\n",
      "25\n",
      "None\n"
     ]
    }
   ],
   "source": [
    "# KEY EXISTENCE IN A DICTIONARY\n",
    "# It's important to determine whether a particular key exists before attempting to access its associated value to avoid potential errors.\n",
    "\n",
    "# 1. in: Can be used to check if a specific key is present in a dictionary.\n",
    "\"\"\"\n",
    "my_dict = {\"name\": \"Alice\", \"age\": 30}\n",
    "\n",
    "# SYNTAX IS:\n",
    "print(\"name\" in my_dict)  # Output: True\n",
    "print(\"location\" in my_dict)  # Output: False\n",
    "\"\"\"\n",
    "\n",
    "# 2. get(): Allows you to retrieve the value for a given key if it exists.\n",
    "\"\"\"\n",
    "my_dict = {\"name\": \"Alice\", \"age\": 30}\n",
    "\n",
    "# SYNTAX IS:\n",
    "print(my_dict.get(\"name\"))  # Output: Alice\n",
    "print(my_dict.get(\"location\"))  # Output: None\n",
    "\"\"\"\n",
    "\n",
    "# For eg:\n",
    "# Using the 'in' operator to check for key existence\n",
    "print(\"name\" in student_info)  \n",
    "print(\"location\" in student_info)  \n",
    "\n",
    "# Using the 'get()' method to check for key existence\n",
    "print(student_info.get(\"age\"))  \n",
    "print(student_info.get(\"location\"))  "
   ]
  },
  {
   "cell_type": "code",
   "execution_count": 10,
   "metadata": {},
   "outputs": [
    {
     "name": "stdout",
     "output_type": "stream",
     "text": [
      "{'person1': {'name': 'Alice', 'age': 35}, 'person2': {'name': 'Bob', 'age': 25, 'location': 'New York'}, 'person3': {'name': 'Charlie', 'age': 28}}\n"
     ]
    }
   ],
   "source": [
    "# NESTED DICTIONARIES\n",
    "\"\"\"\n",
    "A nested dictionary is a dictionary that contains another dictionary (or dictionaries) as a value for one or more of its keys. This means that the values of a dictionary can themselves be dictionaries.\n",
    "\n",
    "SYNTAX IS:\n",
    "nested_dict = {\n",
    "    \"person1\": {\"name\": \"Alice\", \"age\": 30},\n",
    "    \"person2\": {\"name\": \"Bob\", \"age\": 25}\n",
    "}\n",
    "\"\"\"\n",
    "\n",
    "# To access values in a nested dictionary, you use multiple square brackets to access the value of a specific key at each level.\n",
    "\"\"\"\n",
    "print(nested_dict[\"person1\"][\"name\"])  # Output: Alice\n",
    "print(nested_dict[\"person2\"][\"age\"])   # Output: 25\n",
    "\"\"\"\n",
    "\n",
    "# You can modify values in a nested dictionary by accessing the specific keys and assigning new values.\n",
    "\"\"\"\n",
    "nested_dict[\"person1\"][\"age\"] = 35\n",
    "nested_dict[\"person2\"][\"location\"] = \"New York\"\n",
    "\"\"\"\n",
    "\n",
    "# QUESTION\n",
    "\"\"\"\n",
    "We have defined a nested dictionary for you in the IDE.\n",
    "Update the code to get the output as per the sample output given below.\n",
    "\n",
    "Sample 1:\n",
    "Input                           Output\n",
    "                                {'person1': {'name': 'Alice', 'age': 35}, 'person2': {'name': 'Bob', 'age': 25, 'location': 'New York'}, 'person3': {'name': 'Charlie', 'age': 28}}\n",
    "\"\"\"\n",
    "\n",
    "# SOLUTION\n",
    "\n",
    "nested_dict = {\n",
    "    \"person1\": {\"name\": \"Alice\", \"age\": 30},\n",
    "    \"person2\": {\"name\": \"Bob\", \"age\": 25}\n",
    "    \n",
    "}\n",
    "nested_dict[\"person1\"][\"age\"] = 35\n",
    "nested_dict[\"person2\"][\"location\"] = \"New York\"\n",
    "nested_dict[\"person3\"] = {\"name\": \"Charlie\", \"age\": 28}\n",
    "print(nested_dict)\n"
   ]
  },
  {
   "cell_type": "code",
   "execution_count": null,
   "id": "67ee78f1",
   "metadata": {},
   "outputs": [],
   "source": [
    "# V. IMP QUESTION\n",
    "\"\"\"\n",
    "You are given an array A.\n",
    "Using your knowledge of dictionary and loops - create a dictionary which has the following characteristics\n",
    "    Key: Each unique element in the array\n",
    "    Value: Count of occurrence of each element in the array\n",
    "\n",
    "Check the sample output below.\n",
    "Sample 1:\n",
    "Input                                                    Output \n",
    "                                                        {1: 3, 2: 2, 3: 2, 4: 1, 5: 1}\n",
    "\"\"\"\n",
    "\n",
    "# Update the code below\n",
    "A = [1, 2, 3, 1, 2, 4, 1, 3, 5]\n",
    "A_freq = {}\n",
    "\n",
    "for i in A:\n",
    "    if i in A_freq:\n",
    "        A_freq[i] += 1\n",
    "    else:\n",
    "        A_freq[i] = 1\n",
    "        \n",
    "print(A_freq)"
   ]
  },
  {
   "cell_type": "code",
   "execution_count": null,
   "id": "a9792180",
   "metadata": {},
   "outputs": [],
   "source": []
  },
  {
   "cell_type": "code",
   "execution_count": null,
   "id": "0cee4c35",
   "metadata": {},
   "outputs": [],
   "source": []
  },
  {
   "cell_type": "code",
   "execution_count": null,
   "id": "f068cfc0",
   "metadata": {},
   "outputs": [],
   "source": []
  },
  {
   "cell_type": "code",
   "execution_count": 1,
   "id": "b56f3ac9",
   "metadata": {},
   "outputs": [
    {
     "data": {
      "text/plain": [
       "'\\nValues which are inside keys can be of any Datatype. There is no condition that whether they are mutable or immutable not. \\nSo in Values we can add like, eg: Strings, Tuples, INT, FLOAT, BOOLEAN, Lists etc.  \\n'"
      ]
     },
     "execution_count": 1,
     "metadata": {},
     "output_type": "execute_result"
    }
   ],
   "source": [
    "\"\"\"\n",
    "KEYS in Dictionary can't be mutable value. It always has an imutable datatype (Datatype which can't be changed once runned.)\n",
    "eg: Stings, INT, FLOAT, Tuples all can be used as Keys in an Dictionary as all are immutable values. \n",
    "    Whereas Lists cannot be used as Key since it is Mutable value (can be changed anytime).\n",
    "\"\"\"\n",
    "\n",
    "\"\"\"\n",
    "Values which are inside keys can be of any Datatype. There is no condition that whether they are mutable or immutable not. \n",
    "So in Values we can add like, eg: Strings, Tuples, INT, FLOAT, BOOLEAN, Lists etc.  \n",
    "\"\"\""
   ]
  },
  {
   "cell_type": "markdown",
   "id": "8f451919",
   "metadata": {},
   "source": []
  },
  {
   "cell_type": "code",
   "execution_count": null,
   "id": "2d7686cd",
   "metadata": {},
   "outputs": [],
   "source": []
  },
  {
   "cell_type": "code",
   "execution_count": null,
   "id": "1caeb35f",
   "metadata": {},
   "outputs": [],
   "source": []
  },
  {
   "cell_type": "code",
   "execution_count": 1,
   "id": "4bd57b18",
   "metadata": {},
   "outputs": [
    {
     "data": {
      "text/plain": [
       "'\\n    1. Ordered: Elements in a tuple are ordered, meaning they have a specific position and can be accessed using indexing.\\n    2. Immutable: Tuples cannot be modified or changed once created.\\n    3. Allows Duplicates: Tuples can contain duplicate elements.\\n'"
      ]
     },
     "execution_count": 1,
     "metadata": {},
     "output_type": "execute_result"
    }
   ],
   "source": [
    "# TUPLES IN PYTHON\n",
    "\"\"\"\n",
    "A tuple is an ordered collection of elements, which can be of different types.\n",
    "Tuples are similar to lists, but they are immutable (cannot be changed).\n",
    "\"\"\"\n",
    "\n",
    "# TUPLE CREATION\n",
    "\"\"\"\n",
    "my_tuple = (1, \"hello\", 3.14)\n",
    "\n",
    "    - Tuples are created using parentheses ().\n",
    "    - Elements are separated by commas.\n",
    "\"\"\"\n",
    "\n",
    "# ACCESSING ELEMENTS OF A TUPLE\n",
    "\"\"\"\n",
    "my_tuple = (1, \"hello\", 3.14)\n",
    "print(my_tuple[0])              # Access the first element\n",
    "\n",
    "    - Indexing starts from 0, similar to lists.\n",
    "    - Elements are accessed using square brackets [].\n",
    "\"\"\"\n",
    "\n",
    "# TUPLE CHARACTERISTICS\n",
    "\"\"\"\n",
    "    1. Ordered: Elements in a tuple are ordered, meaning they have a specific position and can be accessed using indexing.\n",
    "    2. Immutable: Tuples cannot be modified or changed once created.\n",
    "    3. Allows Duplicates: Tuples can contain duplicate elements.\n",
    "\"\"\""
   ]
  },
  {
   "cell_type": "code",
   "execution_count": 3,
   "id": "56cdbc12",
   "metadata": {},
   "outputs": [
    {
     "name": "stdout",
     "output_type": "stream",
     "text": [
      "Element: 10 , Type: <class 'int'>\n",
      "Element: 3.14 , Type: <class 'float'>\n",
      "Element: Hello, World! , Type: <class 'str'>\n",
      "Element: True , Type: <class 'bool'>\n"
     ]
    }
   ],
   "source": [
    "# DATA TYPES IN TUPLES\n",
    "\"\"\"\n",
    "The code in the IDE has a tuple called data_tuple with elements of different data types (integer, float, string, boolean).\n",
    "We then iterate through the tuple and print each element along with its data type using the type function.\n",
    "\"\"\"\n",
    "\n",
    "data_tuple = (10, 3.14, 'Hello, World!', True)\n",
    "\n",
    "for element in data_tuple:\n",
    "    print(\"Element:\", element, \", Type:\", type(element))"
   ]
  },
  {
   "cell_type": "code",
   "execution_count": null,
   "id": "93394a13",
   "metadata": {},
   "outputs": [],
   "source": [
    "# LIST AS A PART OF TUPLE\n",
    "\"\"\"\n",
    "A tuple can hold elements of various types, including lists, which makes tuples versatile for storing a mix of different data structures.\n",
    "Consider the syntax below:\n",
    "\n",
    "my_list = [1, 2, 3]\n",
    "my_tuple = (\"Alice\", 30, my_list)\n",
    "print(\"Tuple:\", my_tuple)   # Output - Tuple: ('Alice', 30, [1, 2, 3])\n",
    "\"\"\"\n",
    "\n",
    "# QUESTION\n",
    "\"\"\"\n",
    "Consider the tuple defined as follows:\n",
    "\n",
    "student = (\"Alice\", 20, [\"Math\", \"Science\", \"English\"])\n",
    "What will be the output for print(student[2])?\n",
    "\n",
    "# OPTIONS:\n",
    "    1. Compilation error\n",
    "    2. English\n",
    "    3. ['Math', 'Science', 'English']\n",
    "\"\"\"\n",
    "# ANSWER: Output - ['Math', 'Science', 'English']"
   ]
  },
  {
   "cell_type": "code",
   "execution_count": 4,
   "id": "761abd04",
   "metadata": {},
   "outputs": [
    {
     "name": "stdout",
     "output_type": "stream",
     "text": [
      "Bob\n",
      "English\n",
      "20\n",
      "Z\n"
     ]
    }
   ],
   "source": [
    "# TUPLE UNPACKING\n",
    "\"\"\"\n",
    "Tuple unpacking, also known as tuple destructuring, is a feature in Python that allows you to assign the elements of a tuple to individual variables in a single assignment statement.\n",
    "This makes it easy to extract and work with the individual elements of a tuple.\n",
    "\n",
    "Eg:\n",
    "my_tuple = (1, 'hello', 3.14)\n",
    "\n",
    "# Unpack the tuple into separate variables\n",
    "a, b, c = my_tuple\n",
    "\n",
    "# Print the unpacked variables\n",
    "print(\"a:\", a)      # Output: a: 1\n",
    "print(\"b:\", b)      # Output: b: hello\n",
    "print(\"c:\", c)      # Output: c: 3.14\n",
    "\"\"\"\n",
    "\n",
    "# QUESTION: We have to print the sample output from the tuple which is given.\n",
    "\"\"\"\n",
    "Sample Output:\n",
    "Bob\n",
    "English\n",
    "20\n",
    "Z\n",
    "\"\"\"\n",
    "student = ([\"Alice\", \"Bob\"], [\"Math\", \"Science\", \"English\"], 20, 'XYZ')\n",
    "\n",
    "# Update the code below this line\n",
    "a, b, c, d = student \n",
    "print(a[1])\n",
    "print(b[2])\n",
    "print(c)\n",
    "print(d[2])"
   ]
  },
  {
   "cell_type": "code",
   "execution_count": 5,
   "id": "6e744551",
   "metadata": {},
   "outputs": [
    {
     "name": "stdout",
     "output_type": "stream",
     "text": [
      "4\n",
      "1\n"
     ]
    }
   ],
   "source": [
    "# LENGTH AND COUNT OF ELEMENTS IN A TUPLE\n",
    "\"\"\"\n",
    "1. LENGTH : For tuples, len() returns the number of elements.\n",
    "my_tuple = (1, 2, 3, 4, 5)\n",
    "print(\"Length of the tuple:\", len(my_tuple))                    # Output: Length of the tuple: 5\n",
    "\n",
    "\n",
    "2. COUNT : For tuples, count() allows you to count the occurrences of a specified value.\n",
    "my_tuple = (1, 2, 2, 3, 2, 4, 5, 2)\n",
    "print(\"Number of occurrences of 2:\", my_tuple.count(2))         # Output: Number of occurrences of 2: 4\n",
    "\"\"\"\n",
    "\n",
    "# QUESTION: What is the expected output for the following code?\n",
    "student = ([2, 2], [2, 2, 2], 2, 3)\n",
    "print(len(student))                     # There are 4 elements in the tuple - 2, 2], [2, 2, 2], 2 & 3 respectively.\n",
    "print(student.count(2))                 # The count of '2' in the tuple as an independent element is 1.\n"
   ]
  },
  {
   "cell_type": "code",
   "execution_count": 6,
   "id": "69d555de",
   "metadata": {},
   "outputs": [
    {
     "ename": "AttributeError",
     "evalue": "'tuple' object has no attribute 'append'",
     "output_type": "error",
     "traceback": [
      "\u001b[1;31m---------------------------------------------------------------------------\u001b[0m",
      "\u001b[1;31mAttributeError\u001b[0m                            Traceback (most recent call last)",
      "Cell \u001b[1;32mIn[6], line 17\u001b[0m\n\u001b[0;32m     14\u001b[0m my_tuple \u001b[38;5;241m=\u001b[39m (\u001b[38;5;241m1\u001b[39m, \u001b[38;5;241m2\u001b[39m, \u001b[38;5;241m3\u001b[39m)\n\u001b[0;32m     16\u001b[0m \u001b[38;5;66;03m# Call the function to manipulate the tuple\u001b[39;00m\n\u001b[1;32m---> 17\u001b[0m \u001b[43mmanipulate_tuple\u001b[49m\u001b[43m(\u001b[49m\u001b[43mmy_tuple\u001b[49m\u001b[43m)\u001b[49m\n",
      "Cell \u001b[1;32mIn[6], line 5\u001b[0m, in \u001b[0;36mmanipulate_tuple\u001b[1;34m(my_tuple)\u001b[0m\n\u001b[0;32m      3\u001b[0m \u001b[38;5;28;01mdef\u001b[39;00m \u001b[38;5;21mmanipulate_tuple\u001b[39m(my_tuple):\n\u001b[0;32m      4\u001b[0m     \u001b[38;5;66;03m# Add an element to the tuple\u001b[39;00m\n\u001b[1;32m----> 5\u001b[0m     \u001b[43mmy_tuple\u001b[49m\u001b[38;5;241;43m.\u001b[39;49m\u001b[43mappend\u001b[49m(\u001b[38;5;241m4\u001b[39m)\n\u001b[0;32m      7\u001b[0m     \u001b[38;5;66;03m# Remove the first element\u001b[39;00m\n\u001b[0;32m      8\u001b[0m     my_tuple\u001b[38;5;241m.\u001b[39mremove(\u001b[38;5;241m1\u001b[39m)\n",
      "\u001b[1;31mAttributeError\u001b[0m: 'tuple' object has no attribute 'append'"
     ]
    }
   ],
   "source": [
    "# TUPLE ARE IMMUTABLE\n",
    "\n",
    "# What will the following code output?\n",
    "\n",
    "def manipulate_tuple(my_tuple):\n",
    "    # Add an element to the tuple\n",
    "    my_tuple.append(4)\n",
    "    \n",
    "    # Remove the first element\n",
    "    my_tuple.remove(1)\n",
    "\n",
    "    # Access an element beyond the tuple's range\n",
    "    print(\"Third element:\", my_tuple[2])\n",
    "\n",
    "# Create a tuple\n",
    "my_tuple = (1, 2, 3)\n",
    "\n",
    "# Call the function to manipulate the tuple\n",
    "manipulate_tuple(my_tuple)\n",
    "\n",
    "\"\"\"\n",
    "OPTIONS \n",
    "1. Runtime Error\n",
    "2. 3 \n",
    "3. 4\n",
    "\n",
    "Correct Answer:\n",
    "Runtime error\n",
    "\n",
    "Explanation:\n",
    "Tuples are immutable and certain operations such as append / remove are not allowed.\n",
    "\"\"\""
   ]
  },
  {
   "cell_type": "code",
   "execution_count": null,
   "id": "79cc6a36",
   "metadata": {},
   "outputs": [],
   "source": []
  }
 ],
 "metadata": {
  "kernelspec": {
   "display_name": "Python 3",
   "language": "python",
   "name": "python3"
  },
  "language_info": {
   "codemirror_mode": {
    "name": "ipython",
    "version": 3
   },
   "file_extension": ".py",
   "mimetype": "text/x-python",
   "name": "python",
   "nbconvert_exporter": "python",
   "pygments_lexer": "ipython3",
   "version": "3.10.2"
  }
 },
 "nbformat": 4,
 "nbformat_minor": 5
}

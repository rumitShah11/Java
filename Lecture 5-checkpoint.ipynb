{
 "cells": [
  {
   "cell_type": "code",
   "execution_count": 1,
   "metadata": {},
   "outputs": [],
   "source": [
    "# LOOPS IN PYTHON\n",
    "\"\"\"\n",
    "A loop in programming is like doing something over and over again until you're satisfied.\n",
    "You get to pick what you want to do and how many times you want to do it.\n",
    "It's like telling the computer, \"Keep doing this until I say stop!\n",
    "\"\"\"\n",
    "\n",
    "# Using loops makes things easier because instead of writing the same instructions multiple times, you can just tell the computer to repeat those instructions for you."
   ]
  },
  {
   "cell_type": "code",
   "execution_count": null,
   "id": "5a8237c8",
   "metadata": {},
   "outputs": [],
   "source": [
    "# V.V. IMPORANTANT THING FOR LOOPS CONCEPT\n",
    "\n",
    "# When using a loop you have to think about three things - initialisation, condition and update statement.\n",
    "# a. So think about what we initialise the variable with? i.e., Where does the sequence start form?\n",
    "# b. Think about what the condition will be? i.e., Till where is the sequence going?\n",
    "# c. Also think about how the variable will be updating after every iteration. How the terms in the sequence are changing?"
   ]
  },
  {
   "cell_type": "code",
   "execution_count": null,
   "id": "9a575fe1",
   "metadata": {},
   "outputs": [],
   "source": [
    "# WHILE LOOP\n",
    "\n",
    "# LOOPS can execute a block of code as long as a specified condition is reached.\n",
    "# They are handy because they save time, reduce errors, and they make code more readable.\n",
    "\n",
    "\"\"\"\n",
    "The WHILE LOOP loops through a block of code as long as a specified condition is true:\n",
    "while (condition):\n",
    "    // code to be executed\n",
    "\n",
    "\n",
    "Example\n",
    "counter = 0\n",
    "while counter < 5:\n",
    "    print(\"The counter is:\", counter)\n",
    "    counter = counter + 1\n",
    "\n",
    "Code Explanation:\n",
    "a. In the example above, the WHILE loop is executed as long as the condition 'counter < 5' is true.\n",
    "b. The initial value of 'counter' is 0.\n",
    "c. The code block inside the loop prints the value of Counter and increments it by 1 with the statement Counter = Counter + 1.\n",
    "d. The loop will continue executing until 'counter' becomes equal to or greater than 5.\n",
    "\"\"\""
   ]
  },
  {
   "cell_type": "code",
   "execution_count": null,
   "id": "830f37d1",
   "metadata": {},
   "outputs": [],
   "source": [
    "# FOR LOOPS\n",
    "\n",
    "# When you know exactly how many times you want to loop through a block of code, use the for loop instead of while loop.\n",
    "# FOR loop in Python is designed to iterate over a sequence of elements, such as a list, string, or range of numbers.\n",
    "\n",
    "\"\"\"\n",
    "Example 1: Iterating over a list\n",
    "\n",
    "fruits = [\"apple\", \"banana\", \"orange\"]\n",
    "for item in fruits:\n",
    "    print(item)\n",
    "The For loop iterates over each element in the fruits list.\n",
    "On each iteration, the item variable takes the value of the current element, and it is printed.\n",
    "The output will be:\n",
    "\n",
    "apple\n",
    "banana\n",
    "orange\n",
    "\"\"\"\n",
    "\n",
    "# V.V. IMP Note:\n",
    "\"\"\"\n",
    "a. There was no increment in the For loop syntax.\n",
    "Unlike While loop - we did not need to write 'item = item + 1' or any such syntax\n",
    "b. item is just a Variable. You can replace it with element / i / x or any other Variable.\n",
    "\"\"\""
   ]
  },
  {
   "cell_type": "code",
   "execution_count": null,
   "id": "616403af",
   "metadata": {},
   "outputs": [],
   "source": [
    "# RANGE OF NUMBERS IN FOR LOOPS\n",
    "\n",
    "# In Python, you can use a for loop to iterate over a sequence of numbers.\n",
    "# The Range() function helps generate this sequence, allowing you to define where to start, where to stop, and how much to increment by.\n",
    "\n",
    "\n",
    "# THREE RANGE ARGUMENTS\n",
    "\"\"\"\n",
    "The basic syntax for using the Range() function in a for loop is:\n",
    "for i in range(start, stop, step):\n",
    "    # do something\n",
    "\"\"\"\n",
    "\n",
    "\"\"\"\n",
    "How It Works: When you provide three arguments to range(start, stop, step), it generates numbers starting from start, up to (but not including) stop, incrementing by step.\n",
    "For example:\n",
    "for i in range(0, 10, 2):\n",
    "    print(i)\n",
    "\n",
    "Gives the Output:\n",
    "0\n",
    "2\n",
    "4\n",
    "6\n",
    "8\n",
    "\n",
    "Let's see what's happening in the example given above:\n",
    "a. Start: The first number in the sequence. In range(0, 10, 2), the sequence starts at 0.\n",
    "b. Stop: The number where the sequence ends, but it is not included in the sequence. In range(0, 10, 2), the sequence stops before 10.\n",
    "c. Step: The difference between each number in the sequence. In range(0, 10, 2), the sequence increments by 2, generating numbers 0, 2, 4, 6, 8.\n",
    "\"\"\"\n",
    "\n",
    "\n",
    "# TWO RANGE ARGUMENTS\n",
    "\"\"\"\n",
    "Another way to use the range function is by providing two arguments: start and stop.\n",
    "When you use two arguments in the range(start, stop) function, it generates a sequence of numbers starting from the start value up to, but not including, the stop value.\n",
    "\n",
    "for i in range(2, 6):\n",
    "    print(i)\n",
    "\n",
    "Output:\n",
    "2\n",
    "3\n",
    "4\n",
    "5\n",
    "Start: The sequence starts at the start value (inclusive). In this example, it starts at 2.\n",
    "Stop: The sequence ends at the stop value (exclusive). In this example, it stops before 6.\n",
    "So, the range(2, 6) function generates the numbers 2, 3, 4, and 5. The start value is included in the sequence, but the stop value is not.\n",
    "\"\"\"\n",
    "\n",
    "\n",
    "# SINGLE RANGE ARGUMENTS\n",
    "\"\"\"\n",
    "You can also pass just one argument to the range function.\n",
    "When you use one argument in the range(n) function, it generates a sequence of numbers starting from 0 up to, but not including N.\n",
    "\n",
    "for i in range(5):\n",
    "    print(i)\n",
    "\n",
    "Expected output:\n",
    "0\n",
    "1\n",
    "2\n",
    "3\n",
    "4\n",
    "\n",
    "# The sequence starts at 0 and ends at n-1. In this example, it generates numbers from 0 to 4.\n",
    "So, the above loop runs 5 times. The range(5) function generates the numbers 0, 1, 2, 3, and 4.\n",
    "\n",
    "This is useful when you need to repeat something a specific number of times.\n",
    "\"\"\""
   ]
  },
  {
   "cell_type": "code",
   "execution_count": 20,
   "id": "8771a361",
   "metadata": {},
   "outputs": [
    {
     "name": "stdout",
     "output_type": "stream",
     "text": [
      "5 x 1 = 5\n",
      "5 x 2 = 10\n",
      "5 x 3 = 15\n",
      "5 x 4 = 20\n",
      "5 x 5 = 25\n",
      "5 x 6 = 30\n",
      "5 x 7 = 35\n",
      "5 x 8 = 40\n",
      "5 x 9 = 45\n",
      "5 x 10 = 50\n"
     ]
    }
   ],
   "source": [
    "n = int(input())\n",
    "for i in range(1, 11):\n",
    "    print((str(n) + \" x \" + str(i)),\"=\", n * i)"
   ]
  },
  {
   "cell_type": "code",
   "execution_count": 28,
   "id": "a373a9b1",
   "metadata": {},
   "outputs": [
    {
     "name": "stdout",
     "output_type": "stream",
     "text": [
      "The factorial of the given number is: 120\n"
     ]
    }
   ],
   "source": [
    "n = int(input())\n",
    "\n",
    "i = 1\n",
    "factorial = 1\n",
    "\n",
    "while i <= n:\n",
    "    factorial = i * factorial\n",
    "    i = i + 1\n",
    "    \n",
    "print(\"The factorial of the given number is:\", factorial)"
   ]
  },
  {
   "cell_type": "code",
   "execution_count": 36,
   "id": "e111d1f0",
   "metadata": {},
   "outputs": [
    {
     "name": "stdout",
     "output_type": "stream",
     "text": [
      "6\n"
     ]
    }
   ],
   "source": [
    "numbers = [1, -2, 3, -4, 5, 6, -7, -8, 9, 10]\n",
    "count = 0\n",
    "for i in numbers:\n",
    "    if i > 0:\n",
    "        count += 1\n",
    "print(count)"
   ]
  },
  {
   "cell_type": "code",
   "execution_count": 55,
   "id": "092c7906",
   "metadata": {},
   "outputs": [
    {
     "name": "stdout",
     "output_type": "stream",
     "text": [
      "6\n"
     ]
    }
   ],
   "source": [
    "n = int(input())\n",
    "i = 0\n",
    "sum = 0\n",
    "while i <= n:\n",
    "    if i % 2 == 0:\n",
    "        sum += i\n",
    "    i += 1\n",
    "print(sum)"
   ]
  },
  {
   "cell_type": "code",
   "execution_count": 46,
   "id": "e045b5e7",
   "metadata": {},
   "outputs": [
    {
     "name": "stdout",
     "output_type": "stream",
     "text": [
      "5  x  1 = 5\n",
      "5  x  2 = 10\n",
      "5  x  3 = 15\n",
      "5  x  4 = 20\n",
      "5  x  6 = 30\n",
      "5  x  7 = 35\n",
      "5  x  8 = 40\n",
      "5  x  9 = 45\n",
      "5  x  10 = 50\n"
     ]
    }
   ],
   "source": [
    "n = int(input())\n",
    "i = 1\n",
    "for i in range(1, 11, 1):\n",
    "    if i == 5:\n",
    "        continue\n",
    "    print(n, \" x \", i, \"=\", n * i)\n"
   ]
  },
  {
   "cell_type": "code",
   "execution_count": 54,
   "id": "a38ae833",
   "metadata": {},
   "outputs": [
    {
     "name": "stdout",
     "output_type": "stream",
     "text": [
      "timur\n"
     ]
    }
   ],
   "source": [
    "n = input()\n",
    "reversed_string = \"\"\n",
    "for char in n:\n",
    "    reversed_string = char + reversed_string\n",
    "\n",
    "print(reversed_string)"
   ]
  },
  {
   "cell_type": "code",
   "execution_count": 73,
   "id": "f761557a",
   "metadata": {},
   "outputs": [
    {
     "name": "stdout",
     "output_type": "stream",
     "text": [
      "a\n",
      "a\n",
      "b\n",
      "b\n",
      "r\n",
      "r\n"
     ]
    }
   ],
   "source": [
    "input_str = input()\n",
    "for char in input_str:\n",
    "    print(char)\n",
    "    if input_str.count(char) == 1:\n",
    "        print(char)\n",
    "        break"
   ]
  },
  {
   "cell_type": "code",
   "execution_count": 82,
   "id": "d450588f",
   "metadata": {},
   "outputs": [
    {
     "name": "stdout",
     "output_type": "stream",
     "text": [
      "120\n"
     ]
    }
   ],
   "source": [
    "int_input = int(input())\n",
    "factorial = 1\n",
    "while int_input > 0:\n",
    "    factorial *= int_input\n",
    "    int_input -= 1\n",
    "print(factorial)"
   ]
  },
  {
   "cell_type": "code",
   "execution_count": 13,
   "id": "617de0a3",
   "metadata": {},
   "outputs": [
    {
     "name": "stdout",
     "output_type": "stream",
     "text": [
      "88\n",
      "66\n",
      "99\n",
      "100\n",
      "11\n",
      "11\n",
      "Number ranging between 1 and 10 is: 5\n"
     ]
    }
   ],
   "source": [
    "while True:\n",
    "    input_number = int(input())\n",
    "    if input_number >= 1 and input_number <= 10:\n",
    "        print(\"Number ranging between 1 and 10 is:\", input_number)\n",
    "        break\n",
    "    else:\n",
    "        print(input_number)\n",
    "        continue\n",
    "    "
   ]
  },
  {
   "cell_type": "code",
   "execution_count": 18,
   "id": "f87eff67",
   "metadata": {},
   "outputs": [
    {
     "name": "stdout",
     "output_type": "stream",
     "text": [
      "number is not a prime number\n",
      "number is a prime number: 5\n"
     ]
    }
   ],
   "source": [
    "number = int(input())\n",
    "for num in range(number):\n",
    "    if (num/1 and num/num) == True:\n",
    "        print(\"number is a prime number:\", number)\n",
    "        break\n",
    "    else:\n",
    "        print(\"number is not a prime number\")\n",
    "    "
   ]
  },
  {
   "cell_type": "code",
   "execution_count": 2,
   "id": "80be227b",
   "metadata": {},
   "outputs": [
    {
     "name": "stdout",
     "output_type": "stream",
     "text": [
      "105\n"
     ]
    }
   ],
   "source": [
    "total = 0\n",
    "number = 1\n",
    "while total < 100:\n",
    "    total += number\n",
    "    number += 1\n",
    "print(total)\n"
   ]
  },
  {
   "cell_type": "code",
   "execution_count": 1,
   "id": "9a14fb11",
   "metadata": {},
   "outputs": [
    {
     "name": "stdout",
     "output_type": "stream",
     "text": [
      "*\n",
      "**\n",
      "***\n",
      "****\n",
      "*****\n"
     ]
    }
   ],
   "source": [
    "rows = 5  # Number of rows\n",
    "columns = 5  # Number of columns\n",
    "\n",
    "for i in range(1, rows + 1):\n",
    "    for j in range(1, i + 1):\n",
    "        print(\"*\", end = \"\")\n",
    "    print()\n"
   ]
  },
  {
   "cell_type": "code",
   "execution_count": 1,
   "id": "9ecb0ae0",
   "metadata": {},
   "outputs": [
    {
     "name": "stdout",
     "output_type": "stream",
     "text": [
      "0 1 1 2 3 "
     ]
    }
   ],
   "source": [
    "# Fibonacci number\n",
    "\"\"\"\n",
    "You are given an integer N.\n",
    "\n",
    "You need to output the first N numbers of the Fibonacci Series.\n",
    "Check the sample output given below.\n",
    "\n",
    "Note: A Fibonacci number is a series of numbers in which each number is obtained by adding the two preceding numbers.\n",
    "\n",
    "F1 = 0, F2 = 1\n",
    "FN = FN-2 + FN-1\n",
    "\n",
    "Sample 1:\n",
    "Input                   Output\n",
    "5                       0 1 1 2 3\n",
    "\"\"\"\n",
    "\n",
    "#Solution\n",
    "n = int(input())\n",
    "a = 0\n",
    "b = 1\n",
    "\n",
    "print(a, b, end=\" \")\n",
    "\n",
    "\n",
    "for i in range(0, n-2):\n",
    "    c = a + b # set currrent number as sum of previous two numbers\n",
    "    print(c, end=\" \")\n",
    "    # Update a and b as next two numbers\n",
    "    a = b \n",
    "    b = c\n"
   ]
  },
  {
   "cell_type": "code",
   "execution_count": null,
   "id": "2c545be1",
   "metadata": {},
   "outputs": [],
   "source": []
  },
  {
   "cell_type": "code",
   "execution_count": null,
   "id": "ccbd0ea2",
   "metadata": {},
   "outputs": [],
   "source": []
  },
  {
   "cell_type": "code",
   "execution_count": 9,
   "id": "a011d67f",
   "metadata": {},
   "outputs": [
    {
     "name": "stdout",
     "output_type": "stream",
     "text": [
      "43\n",
      "3\n",
      "why fit in, when you are born to stand out!\n",
      "WHY FIT IN, WHEN YOU ARE BORN TO STAND OUT!\n",
      "Why Fit In, When You Are Born To Stand Out!\n",
      "4\n"
     ]
    }
   ],
   "source": [
    "A = \"Why fit in, When you are born to Stand out!\"\n",
    "\n",
    "#  1. WAP a program to find the length of the following string\n",
    "A = \"why fit in, When you are born to Stand Out!\"\n",
    "print(len(A))\n",
    "\n",
    "# 2. WAP to check how many times alphabet o is occuring\n",
    "print(A.count(\"o\"))\n",
    "\n",
    "# 3. WAP to convert the whole string into lower and upper case letters.\n",
    "print(A.lower())\n",
    "print(A.upper())\n",
    "\n",
    "# 4. WAP to convert a following string into a title.\n",
    "print(A.title())\n",
    "\n",
    "# 5. WAP to find the index of \"fit in\"\n",
    "print(A.find(\"fit in\"))"
   ]
  },
  {
   "cell_type": "code",
   "execution_count": 8,
   "id": "a60282fd",
   "metadata": {},
   "outputs": [
    {
     "name": "stdout",
     "output_type": "stream",
     "text": [
      "----------------------------------------\n",
      "Name: rumit\n",
      "Amount to be paid: 1000.0\n",
      "----------------------------------------\n",
      "Thanks for Shopping!!\n",
      "----------------------------------------\n"
     ]
    }
   ],
   "source": [
    "# WAP to create a billing system at supermarket.\n",
    "while True:\n",
    "    name = input(\"Your name is:\")\n",
    "    total = 0\n",
    "    while True:\n",
    "        amount = float(input(\"The amount the item is:\"))\n",
    "        quantity = int(input(\"The number of items you purchased is:\"))\n",
    "        total += amount * quantity\n",
    "\n",
    "        repeat = input(\"If you want to continue shopping: yes/no\")\n",
    "        if repeat == \"no\" or repeat == \"No\":\n",
    "            break\n",
    "\n",
    "    print(\"-\"*40)\n",
    "    print(\"Name:\", name)\n",
    "    print(\"Amount to be paid:\", total)\n",
    "    print(\"-\"*40)\n",
    "    print(\"Thanks for Shopping!!\")\n",
    "    print(\"-\"*40)\n",
    "\n",
    "    repeat1 = input(\"If you want to get to next customer?: yes/no\")\n",
    "    if repeat1 == \"no\" or repeat1 == \"No\":\n",
    "        break\n"
   ]
  },
  {
   "cell_type": "code",
   "execution_count": 4,
   "id": "7a315ee3",
   "metadata": {},
   "outputs": [
    {
     "name": "stdout",
     "output_type": "stream",
     "text": [
      "24\n",
      "48\n",
      "72\n",
      "96\n"
     ]
    }
   ],
   "source": [
    "# WAP to check if a number is divisible by 8 and 12 upto 100 numbers\n",
    "for i in range(1, 101):\n",
    "    if i % 8 == 0 and i % 12 == 0:\n",
    "        print(i)\n",
    "    else:\n",
    "        continue"
   ]
  },
  {
   "cell_type": "code",
   "execution_count": 3,
   "id": "154c9c9f",
   "metadata": {},
   "outputs": [
    {
     "name": "stdout",
     "output_type": "stream",
     "text": [
      "100\n"
     ]
    }
   ],
   "source": [
    "# Write a program to find sum of first 10 odd numbers using while loop\n",
    "i = 1\n",
    "sum = 0 \n",
    "while i <= 20:\n",
    "    sum += i\n",
    "    i += 2\n",
    "    \n",
    "print(sum)"
   ]
  },
  {
   "cell_type": "code",
   "execution_count": 2,
   "id": "531e26ae",
   "metadata": {},
   "outputs": [
    {
     "name": "stdout",
     "output_type": "stream",
     "text": [
      "The number is: 1 \n",
      "Its square is: 1 \n",
      "\n",
      "The number is: 2 \n",
      "Its square is: 4 \n",
      "\n",
      "The number is: 3 \n",
      "Its square is: 9 \n",
      "\n",
      "The number is: 4 \n",
      "Its square is: 16 \n",
      "\n",
      "The number is: 5 \n",
      "Its square is: 25 \n",
      "\n",
      "The number is: 6 \n",
      "Its square is: 36 \n",
      "\n",
      "The number is: 7 \n",
      "Its square is: 49 \n",
      "\n",
      "The number is: 8 \n",
      "Its square is: 64 \n",
      "\n",
      "The number is: 9 \n",
      "Its square is: 81 \n",
      "\n",
      "The number is: 10 \n",
      "Its square is: 100 \n",
      "\n",
      "The number is: 11 \n",
      "Its square is: 121 \n",
      "\n",
      "The number is: 12 \n",
      "Its square is: 144 \n",
      "\n",
      "The number is: 13 \n",
      "Its square is: 169 \n",
      "\n",
      "The number is: 14 \n",
      "Its square is: 196 \n",
      "\n",
      "The number is: 15 \n",
      "Its square is: 225 \n",
      "\n",
      "The number is: 16 \n",
      "Its square is: 256 \n",
      "\n",
      "The number is: 17 \n",
      "Its square is: 289 \n",
      "\n",
      "The number is: 18 \n",
      "Its square is: 324 \n",
      "\n",
      "The number is: 19 \n",
      "Its square is: 361 \n",
      "\n",
      "The number is: 20 \n",
      "Its square is: 400 \n",
      "\n"
     ]
    }
   ],
   "source": [
    "# Write a program to write first 20 numbers and their squared numbers\n",
    "for i in range(1, 21):\n",
    "    print(\"The number is:\", i, end = \" \", )\n",
    "    print()\n",
    "    print(\"Its square is:\", i * i, end = \" \")\n",
    "    print()\n",
    "    print()"
   ]
  },
  {
   "cell_type": "code",
   "execution_count": 1,
   "id": "89961c12",
   "metadata": {},
   "outputs": [
    {
     "name": "stdout",
     "output_type": "stream",
     "text": [
      "650\n"
     ]
    }
   ],
   "source": [
    "# SUM OF ALL THE EVEN NUMBERS UPTO 50\n",
    "sum = 0\n",
    "for i in range(0, 51, 2):\n",
    "    sum = sum + i\n",
    "    \n",
    "print(sum)"
   ]
  },
  {
   "cell_type": "code",
   "execution_count": 4,
   "id": "50667bd1",
   "metadata": {},
   "outputs": [
    {
     "name": "stdout",
     "output_type": "stream",
     "text": [
      "5 x 1 = 5\n",
      "5 x 2 = 10\n",
      "5 x 3 = 15\n",
      "5 x 4 = 20\n",
      "5 x 5 = 25\n",
      "5 x 6 = 30\n",
      "5 x 7 = 35\n",
      "5 x 8 = 40\n",
      "5 x 9 = 45\n",
      "5 x 10 = 50\n"
     ]
    }
   ],
   "source": [
    "#MULITIPLICATION TABLE\n",
    "\n",
    "n= int(input())\n",
    "for i in range(1, 11):\n",
    "    print(n, \"x\", i, \"=\", n * i)"
   ]
  },
  {
   "cell_type": "code",
   "execution_count": 12,
   "id": "b0c96dae",
   "metadata": {},
   "outputs": [
    {
     "name": "stdout",
     "output_type": "stream",
     "text": [
      "1 \n",
      "1 2 \n",
      "1 2 3 \n",
      "1 2 3 4 \n",
      "1 2 3 4 5 \n"
     ]
    }
   ],
   "source": [
    "for i in range(1,6):  #rows\n",
    "    for j in range(1, i+1):     #columns\n",
    "        print(j, end = \" \")\n",
    "    print()"
   ]
  },
  {
   "cell_type": "code",
   "execution_count": 13,
   "id": "ca62ac43",
   "metadata": {},
   "outputs": [
    {
     "name": "stdout",
     "output_type": "stream",
     "text": [
      "1 \n",
      "2 2 \n",
      "3 3 3 \n",
      "4 4 4 4 \n",
      "5 5 5 5 5 \n"
     ]
    }
   ],
   "source": [
    "for i in range(1,6):\n",
    "    for j in range(1, i+1):\n",
    "        print(i, end = \" \")\n",
    "    print()"
   ]
  },
  {
   "cell_type": "code",
   "execution_count": 24,
   "id": "1ccf966e",
   "metadata": {},
   "outputs": [
    {
     "name": "stdout",
     "output_type": "stream",
     "text": [
      "1 1 1 1 1 \n",
      "2 2 2 2 \n",
      "3 3 3 \n",
      "4 4 \n",
      "5 \n"
     ]
    }
   ],
   "source": [
    "for i in range(1, 6):\n",
    "    for j in range(6, i, -1):\n",
    "        print(i, end = \" \")\n",
    "    print()"
   ]
  },
  {
   "cell_type": "code",
   "execution_count": null,
   "id": "6f4aaed7",
   "metadata": {},
   "outputs": [],
   "source": []
  },
  {
   "cell_type": "code",
   "execution_count": 9,
   "id": "a6e3b89d",
   "metadata": {},
   "outputs": [
    {
     "name": "stdout",
     "output_type": "stream",
     "text": [
      "* * * * \n",
      "* * * * \n",
      "* * * * \n",
      "* * * * \n"
     ]
    }
   ],
   "source": [
    "n = int(input())\n",
    "\n",
    "# Update the code given below\n",
    "for row in range(n):\n",
    "    for col in range(4):\n",
    "        print(\"*\", end = \" \")\n",
    "        \n",
    "    print()"
   ]
  },
  {
   "cell_type": "code",
   "execution_count": null,
   "id": "847fbeb1",
   "metadata": {},
   "outputs": [],
   "source": [
    "# BREAK STATEMENT\n",
    "\n",
    "# The break statement is a control statement in Python that allows you to exit a loop prematurely.\n",
    "#     1. When the break statement is encountered inside a loop, the loop is immediately terminated.\n",
    "#     2. The program execution continues with the next statement after the loop.\n",
    "\n",
    "\"\"\"\n",
    "Example:\n",
    "fruits = [\"apple\", \"banana\", \"orange\", \"grape\"]\n",
    "\n",
    "for item in fruits:\n",
    "    if item == \"orange\":\n",
    "        break\n",
    "    print(item)\n",
    "\n",
    "Output:\n",
    "apple\n",
    "banana\n",
    "\n",
    "    In this example, the FOR loop iterates over each fruit in the fruits list.\n",
    "    Inside the loop, there is an if statement that checks if the current fruit is equal to \"orange\".\n",
    "    When the condition becomes true, the break statement is executed, and the loop is immediately terminated.\n",
    "\n",
    "To summarise:\n",
    "    1. The loop will start with \"apple\", check whether it is equal to \"orange\", as it is not equal, the loop will continue.\n",
    "    2. Then the loop will run for \"banana\", again it is not equal to \"orange\", the loop will continue.\n",
    "    3. Then the loop will run for \"orange\" and the condition becomes True.\n",
    "    4. In this case break is executed and the loop is exited.\n",
    "    5. Because the loop exited as soon as break was found, the Print(item) will not run for \"orange\".\n",
    "\"\"\""
   ]
  },
  {
   "cell_type": "code",
   "execution_count": null,
   "id": "396ac494",
   "metadata": {},
   "outputs": [],
   "source": [
    "# CONTINUE STATEMENT\n",
    "\n",
    "# Recall that break exits the loop entirely when its condition is met - ignoring all subsequent iterations.\n",
    "# The continue statement skips one iteration (in the loop), if a specified condition occurs, and continues with the next iteration in the loop.\n",
    "\n",
    "\"\"\"\n",
    "Example\n",
    "Refer this example code to print odd numbers using continue statement inside the loop.\n",
    "\n",
    "numbers = [1, 2, 3, 4, 5, 6, 7, 8, 9, 10]\n",
    "\n",
    "for number in numbers:\n",
    "    if number % 2 == 0:\n",
    "        continue\n",
    "    print(number)\n",
    "\n",
    "Output:\n",
    "1\n",
    "3\n",
    "5\n",
    "7\n",
    "9\n",
    "\"\"\""
   ]
  },
  {
   "cell_type": "code",
   "execution_count": null,
   "id": "c6a371d5",
   "metadata": {},
   "outputs": [],
   "source": [
    "# NESTED LOOPS\n",
    "\n",
    "\"\"\"\n",
    "Best Practices:\n",
    "Clear Indentation: Properly indent nested loops to improve code readability.\n",
    "Indent each inner loop one level from its outer loop.\n",
    "Avoid Unnecessary Nesting: Use nested loops only when needed.\n",
    "Efficiency Considerations: For this simple pattern, efficiency is not a concern.\n",
    "However, if you're dealing with a large number of iterations, you might need to optimize the loops or consider alternative solutions.\n",
    "\"\"\""
   ]
  },
  {
   "cell_type": "code",
   "execution_count": 22,
   "id": "60c0c14b",
   "metadata": {},
   "outputs": [
    {
     "name": "stdout",
     "output_type": "stream",
     "text": [
      "1 \n",
      "1 2 \n",
      "1 2 3 \n",
      "1 2 3 4 \n",
      "1 2 3 4 5 \n"
     ]
    }
   ],
   "source": [
    "# cook your dish here\n",
    "\n",
    "n = int(input())\n",
    "\n",
    "# Update your code below this line\n",
    "for row in range(n):\n",
    "    for col in range(row + 1):\n",
    "        print(col + 1, end = \" \")\n",
    "        \n",
    "    print()"
   ]
  },
  {
   "cell_type": "code",
   "execution_count": 27,
   "id": "5a69b11f",
   "metadata": {},
   "outputs": [
    {
     "ename": "ValueError",
     "evalue": "invalid literal for int() with base 10: ''",
     "output_type": "error",
     "traceback": [
      "\u001b[1;31m---------------------------------------------------------------------------\u001b[0m",
      "\u001b[1;31mValueError\u001b[0m                                Traceback (most recent call last)",
      "Cell \u001b[1;32mIn[27], line 1\u001b[0m\n\u001b[1;32m----> 1\u001b[0m n \u001b[38;5;241m=\u001b[39m \u001b[38;5;28;43mint\u001b[39;49m\u001b[43m(\u001b[49m\u001b[38;5;28;43minput\u001b[39;49m\u001b[43m(\u001b[49m\u001b[43m)\u001b[49m\u001b[43m)\u001b[49m\n\u001b[0;32m      3\u001b[0m \u001b[38;5;66;03m# Update your code below this line\u001b[39;00m\n\u001b[0;32m      4\u001b[0m row \u001b[38;5;241m=\u001b[39m \u001b[38;5;241m1\u001b[39m\n",
      "\u001b[1;31mValueError\u001b[0m: invalid literal for int() with base 10: ''"
     ]
    }
   ],
   "source": [
    "n = int(input())\n",
    "\n",
    "# Update your code below this line\n",
    "row = 1\n",
    "for row in range(n):\n",
    "    for col in range(n, 1, -1):\n",
    "        print(\"*\", end = \" \")\n",
    "    print()"
   ]
  }
 ],
 "metadata": {
  "kernelspec": {
   "display_name": "Python 3",
   "language": "python",
   "name": "python3"
  },
  "language_info": {
   "codemirror_mode": {
    "name": "ipython",
    "version": 3
   },
   "file_extension": ".py",
   "mimetype": "text/x-python",
   "name": "python",
   "nbconvert_exporter": "python",
   "pygments_lexer": "ipython3",
   "version": "3.10.2"
  }
 },
 "nbformat": 4,
 "nbformat_minor": 5
}

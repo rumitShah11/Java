{
 "cells": [
  {
   "cell_type": "code",
   "execution_count": 3,
   "id": "dc6b6b9e",
   "metadata": {},
   "outputs": [],
   "source": [
    "#LECTURE 3 : LISTS / ARRAYS IN PYTHON"
   ]
  },
  {
   "cell_type": "code",
   "execution_count": 1,
   "id": "3a289317",
   "metadata": {},
   "outputs": [
    {
     "data": {
      "text/plain": [
       "'\\nIt can hold elements of different data types, such as numbers, strings, or even other lists.\\n\\n# Consider the list  \\'fruits\\'  and  \\'numbers\\'  below:\\nfruits = [\"apple\", \"banana\", \"orange\", \"grape\"]\\nnumbers = [20, 10, 0, -5]\\n'"
      ]
     },
     "execution_count": 1,
     "metadata": {},
     "output_type": "execute_result"
    }
   ],
   "source": [
    "# ARRAYS / LISTS IN PYTHON\n",
    "\n",
    "# Arrays in Python are commonly referred to as lists.\n",
    "\n",
    "\"\"\" Arrays are used to store multiple values in a single variable, instead of declaring separate variables for each value. \n",
    "In Python, list is denoted by square brackets []. \"\"\"\n",
    "\n",
    "# Lists are mutable, which means you can modify them by adding, removing, or changing elements.      (V.IMP)\n",
    "\n",
    "\"\"\"\n",
    "It can hold elements of different data types, such as numbers, strings, or even other lists.\n",
    "\n",
    "# Consider the list  'fruits'  and  'numbers'  below:\n",
    "fruits = [\"apple\", \"banana\", \"orange\", \"grape\"]\n",
    "numbers = [20, 10, 0, -5]\n",
    "\"\"\""
   ]
  },
  {
   "cell_type": "code",
   "execution_count": null,
   "id": "3d9a634b",
   "metadata": {},
   "outputs": [],
   "source": [
    "# INDEXING OF ARRAYS IN PYTHON\n",
    "\n",
    "# You access an array element by referring to the index number inside square brackets []. Similar to what we saw in strings, list items are indexed and you can access them by referring to their index number:\n",
    "\n",
    "\"\"\"\n",
    "            0      1      2      - index numbers\n",
    "         [\"red\",\"Green\",\"Blue\"]  - the list\n",
    "# Note - Indexing always start from 0 when going left to right.\n",
    "\n",
    "To access a particular element of an array, we use the same syntax we used to access a character of a string\n",
    "\n",
    "For eg:\n",
    "arr = [\"red\",\"Green\",\"Blue\"]\n",
    "# to access the third element of the array:\n",
    "print(arr[2])          # Output: Blue\n",
    "\"\"\"\n",
    "\n",
    "\n",
    "# NEGATIVE INDEXING\n",
    "\"\"\"\n",
    "List items can also be negatively indexed:\n",
    "\n",
    "            -3      -2     -1      - index numbers\n",
    "         [\"red\",\"Green\",\"Blue\"]  - the list\n",
    "Note - Indexing always starts from -1 when going right to left.\n",
    "\"\"\""
   ]
  },
  {
   "cell_type": "code",
   "execution_count": null,
   "id": "8ab39222",
   "metadata": {},
   "outputs": [],
   "source": [
    "# CHANGING / REPLACING THE ELEMENTS OF AN ARRAY\n",
    "\n",
    "\"\"\"\n",
    "You can also modify elements in a list by assigning a new value to a specific index.\n",
    "\n",
    "For eg:\n",
    "fruits = [\"apple\", \"banana\", \"orange\", \"grape\"]\n",
    "fruits[1] = \"kiwi\"\n",
    "print(fruits)  # Output: [\"apple\", \"kiwi\", \"orange\", \"grape\"]\n",
    "\"\"\""
   ]
  },
  {
   "cell_type": "code",
   "execution_count": null,
   "id": "5f1e6942",
   "metadata": {},
   "outputs": [],
   "source": [
    "# DISPLAYING LENGTH OF AN ARRAY\n",
    "\n",
    "\"\"\"\n",
    "To get the length of an array or the number of elements present in an array, you can use the len() operator:\n",
    "\n",
    "For e.g.\n",
    "myNumbers = [10, 20, 30, 40, 50]\n",
    "print(len(myNumbers))      # will output 5\n",
    "\"\"\""
   ]
  },
  {
   "cell_type": "code",
   "execution_count": null,
   "id": "63df6f32",
   "metadata": {},
   "outputs": [],
   "source": [
    "# SLICING A LIST IN PYTHON\n",
    "\n",
    "\"\"\"\n",
    "Similar to what we saw in slicing of strings, you can slice lists as well.\n",
    "You can specify a range of consecutive indexes by specifying where to start and where to end the range in this manner - print(list[1:4]).\n",
    "This will print elements from index number 1 to 3.\n",
    "\n",
    "Note:\n",
    "Indexing starts from 0.\n",
    "Item on index no 4 will not be printed as the end index is excluded.\n",
    "\n",
    "For eg -\n",
    "a = [\"Juke\", \"King\", \"Hearts\", \"68\", \"Kite\"]\n",
    "print(a[1:4])\n",
    "\n",
    "The output will be\n",
    "[\"King\", \"Hearts\", \"68\"]\n",
    "\"\"\""
   ]
  },
  {
   "cell_type": "code",
   "execution_count": null,
   "id": "73c38bd1",
   "metadata": {},
   "outputs": [],
   "source": [
    "# OPERATIONS ON ARRAYS / LISTS\n",
    "\n",
    "\"\"\"\n",
    "So far, we've learned how to access list items using indexing and slicing.\n",
    "As you move ahead on lists, you will want to do more than fetch items from the lists.\n",
    "Python allows you even to update and modify lists.\n",
    "\n",
    "There are four major functions that you can use to update any given list and its items.\n",
    "\n",
    "1. append()\n",
    "This function helps you to add a new item at the end of the list.\n",
    "\n",
    "2. insert()\n",
    "This function helps you to add a new item at a specific position in the list. You can exactly specify which position you want to add the new item.\n",
    "\n",
    "3. remove()\n",
    "This is used to remove a specific item from a list. You can exactly specify which item you want to remove from the list.\n",
    "\n",
    "4. pop()\n",
    "This is used to remove the last element from the list.\n",
    "\"\"\""
   ]
  },
  {
   "cell_type": "code",
   "execution_count": null,
   "id": "49beea96",
   "metadata": {},
   "outputs": [],
   "source": [
    "# 1. append() OPERATION IN ARRAY\n",
    "\n",
    "\"\"\"\n",
    "Great, now let's do some hands-on coding using the append() function.\n",
    "\n",
    "To add an item to the end of a list, we use the append() function.\n",
    "\n",
    "fruits = [\"apple\", \"banana\", \"cherry\"]\n",
    "fruits.append(\"orange\")\n",
    "print(fruits) # Output: [\"apple\", \"banana\", \"cherry\", \"orange\"]\n",
    "In the append() function, you provide the item you want to add, and it will be added to the end of the list.\n",
    "\"\"\""
   ]
  },
  {
   "cell_type": "code",
   "execution_count": null,
   "id": "a9a14a34",
   "metadata": {},
   "outputs": [],
   "source": [
    "# 2. insert() OPERATION IN ARRAY\n",
    "\n",
    "\"\"\"\n",
    "Another function that helps us add elements to a list is the INSERT() function.\n",
    "While the APPEND() function adds elements to the end of the list, the INSERT() function allows us to specify the index where we want to insert the new element.\n",
    "\n",
    "fruits = [\"apple\", \"banana\", \"cherry\"]\n",
    "fruits.insert(1, \"orange\")\n",
    "print(fruits)                # Output: [\"apple\", \"orange\", \"banana\", \"cherry\"]\n",
    "\n",
    "With the INSERT() function, we specify the position where we want to add the new item (using an index) and the item we want to add.\n",
    "\n",
    "When we insert a new item into the list, it is placed at the specified position, and the rest of the items are shifted to the right to make room for it.\n",
    "In the example above, \"ORANGE\" is added at index 1, so \"BANANA\" and \"CHERRY\" are shifted to the right.\n",
    "\"\"\""
   ]
  },
  {
   "cell_type": "code",
   "execution_count": null,
   "id": "3a1ed6fd",
   "metadata": {},
   "outputs": [],
   "source": [
    "# 3. remove() OPERATION IN ARRAY\n",
    "\n",
    "\"\"\"\n",
    "We learned how to add items to a list, and now we'll see how to remove items.\n",
    "To remove an item, we use the remove() function.\n",
    "This function removes the first occurrence of the specified item from the list.\n",
    "\n",
    "fruits = [\"apple\", \"banana\", \"cherry\", \"banana\"]\n",
    "fruits.remove(\"banana\")\n",
    "print(fruits)        # Output: [\"apple\", \"cherry\", \"banana\"]\n",
    "\n",
    "\n",
    "Here's how it works:\n",
    "    a. You call the remove() function and pass the item you want to remove.\n",
    "    b. The function searches for the first occurrence of that item in the list.\n",
    "    c. Once it finds the item, it removes it from the list.\n",
    "    d. In the example above, the first occurrence of BANANA is removed, leaving the list as [\"apple\", \"cherry\", \"banana\"].\n",
    "\n",
    "    \n",
    "Note:\n",
    "    a. If the item you want to remove is not in the list, the remove() function will give you an error.\n",
    "    b. The remove() function only removes the first occurrence of the item, so if the item appears multiple times, only the first one will be removed.\n",
    "\"\"\""
   ]
  },
  {
   "cell_type": "code",
   "execution_count": null,
   "id": "af216415",
   "metadata": {},
   "outputs": [],
   "source": [
    "# 4. pop() OPERATION IN ARRAY\n",
    "\n",
    "\"\"\"\n",
    "There's another function to help you remove items from a list.\n",
    "The POP() function lets you take an item out of the list, but you can choose whether to remove the last item or an item from a specific position.\n",
    "\n",
    "I. If you don't tell pop() which item to remove, it will take out the last item in the list.\n",
    "\n",
    "fruits = [\"apple\", \"banana\", \"cherry\"]\n",
    "fruits.pop()\n",
    "print(fruits)                      # Output: [\"apple\", \"banana\"]\n",
    "\n",
    "\n",
    "II. You can also tell POP() which item to remove by giving it the position (index) of the item. For example, let's say you want to remove the item at index 1 (which is \"banana\"):\n",
    "\n",
    "fruits = [\"apple\", \"banana\", \"cherry\"]\n",
    "fruits.pop(1)\n",
    "removed_fruit = fruits.pop(1)\n",
    "print(removed_fruit) # Output: banana\n",
    "print(fruits)                      # Output: [\"apple\", \"cherry\"]\n",
    "\n",
    "\n",
    "a. You call the POP() function and pass the index of the item you want to remove.\n",
    "b. The function removes the item at that position and returns it to you.\n",
    "\n",
    "Note:\n",
    "a. If you use POP() without any arguments, it removes and returns the last item in the list.\n",
    "b. If you use POP() with an index, it removes and returns the item at that index.\n",
    "c. If the index you provide is out of range (like trying to remove an item from an empty list or an index that doesn't exist), you will get an error.\n",
    "\n",
    "\"\"\""
   ]
  },
  {
   "cell_type": "code",
   "execution_count": null,
   "id": "649feff4",
   "metadata": {},
   "outputs": [],
   "source": [
    "# ARRAY / LISTS CONCATENATION\n",
    "\n",
    "# Another simple operation you can do with lists is list concatenation.\n",
    "# When you use the addition operator on two lists, it combines them into one longer list, placing all the items from both lists together.\n",
    "\n",
    "\"\"\"\n",
    "fruits1 = [\"apple\", \"banana\"]\n",
    "fruits2 = [\"cherry\", \"date\"]\n",
    "all_fruits = fruits1 + fruits2\n",
    "print(all_fruits)               # Output: [\"apple\", \"banana\", \"cherry\", \"date\"]\n",
    "\n",
    "When we concatenate (combine) two lists using the + operator, it creates a new list that includes all the items from the first list followed by all the items from the second list.\n",
    "\"\"\""
   ]
  },
  {
   "cell_type": "code",
   "execution_count": null,
   "id": "4de992fc",
   "metadata": {},
   "outputs": [],
   "source": [
    "# USER INPUT OF INTEGERS IN AN ARRAY / LISTS\n",
    "\n",
    "\"\"\"\n",
    "If you want to take a list of numbers as input, you need to convert each input from a string to an integer.\n",
    "\n",
    "Here's how you can achieve that:\n",
    "\n",
    "a. Read User Input: When you need to input a series of numbers, each number is initially read as a string.\n",
    "b. To use these numbers in numerical operations, you must convert them from strings to integers.\n",
    "c. Convert to Integers: Use the MAP() function to apply the INT() function to each item, converting them from strings to integers.\n",
    "d. Create a List: LIST() function collects these elements into a list.\n",
    "e. This list of integer values is stored inside a variable\n",
    "\"\"\"\n",
    "\n",
    "# numbers = list(map(int, input().split()))\n",
    "\"\"\"\n",
    "If the user enters:\n",
    "1 2 3 4 5\n",
    "\n",
    "The MAP() function will convert each item from a string to an integer, and LIST() will create a list of these numbers:\n",
    "print(numbers)                  # Output: [1, 2, 3, 4, 5]\n",
    "\"\"\""
   ]
  },
  {
   "cell_type": "code",
   "execution_count": null,
   "id": "ac86d7c6",
   "metadata": {},
   "outputs": [],
   "source": [
    "# V.IMP EG:\n",
    "\n",
    "#QUESTION : Write a program to read a list of integers as input. Use slicing to print the the list in reverse\n",
    "\n",
    "\"\"\"\n",
    "ANSWER\n",
    "\n",
    "In your current code, the list_reverse = x[] line is missing the slicing condition to reverse the list. Slicing works with the syntax list[start:stop:step].\n",
    "\n",
    "Here's a breakdown of the slicing condition you need:\n",
    "a. start (optional): The beginning index of the slice. Default is 0.\n",
    "b. stop (optional): The end index of the slice. Default is the length of the list.\n",
    "c. step (optional): The step, or the jump between indices. A negative step -1 means you want to go through the list in reverse order.\n",
    "d. To reverse the list, you should use the step parameter as -1:\n",
    "\n",
    "\n",
    "# Corrected code with slicing condition\n",
    "x = list(map(int, input().split()))\n",
    "list_reverse = x[::-1]  # Slicing with step -1 to reverse the list\n",
    "print(list_reverse)\n",
    "\n",
    "\n",
    "Explanation of x[::-1]:\n",
    "x is the list you want to reverse.\n",
    ": indicates that you want to include all elements (from start to end).\n",
    "-1 is the step, meaning you traverse the list from end to start, effectively reversing it.\n",
    "This will give you a new list in the reversed order of x. For example, if x is [1, 2, 3, 4], then x[::-1] will be [4, 3, 2, 1].\n",
    "\"\"\""
   ]
  },
  {
   "cell_type": "code",
   "execution_count": 6,
   "id": "9b17f7f0",
   "metadata": {},
   "outputs": [
    {
     "name": "stdout",
     "output_type": "stream",
     "text": [
      "['ZNMD', 'YJHD', 'Animal']\n",
      "3\n",
      "None\n",
      "None\n",
      "['Animal', 'Rockstar', 'YJHD', 'ZNMD']\n"
     ]
    }
   ],
   "source": [
    "##PRACTICE QUESTIONS\n",
    "\n",
    "# Q1: WAP to ask the user to enter names of their 3 favourite movies & store them in a list.\n",
    "user1 = input(\"Enter your favourite movie 1:\")\n",
    "user2 = input(\"Enter your favourite movie 2:\")\n",
    "user3 = input(\"Enter your favourite movie 3:\")\n",
    "\n",
    "list = [user1, user2, user3]\n",
    "print(list)\n",
    "print(len(list))\n",
    "print(list.insert(2, \"Rockstar\"))\n",
    "print(list.sort())\n",
    "print(list)"
   ]
  },
  {
   "cell_type": "code",
   "execution_count": 16,
   "id": "15f45127",
   "metadata": {},
   "outputs": [
    {
     "name": "stdout",
     "output_type": "stream",
     "text": [
      "Total count of grade A scored by students in the given tuple is 3\n",
      "Sorted values of list is: ['A', 'A', 'A', 'B', 'B', 'C', 'D']\n"
     ]
    }
   ],
   "source": [
    "##PRACTICE QUESTIONS\n",
    "\n",
    "# Q2: WAP to count the number of students with the “A” grade in the following tuple.\n",
    "#(\"C”, “D”, “A”, “A”, “B”, “B”, “A”)\n",
    "\n",
    "tuple = ('C', 'D', 'A', 'A', 'B', 'B', 'A')\n",
    "print(\"Total count of grade A scored by students in the given tuple is\", tuple.count('A'))\n",
    "\n",
    "\n",
    "# Q3: Store the above values in a list & sort them from “A” to “D”.\n",
    "list = ['C', 'D', 'A', 'A', 'B', 'B', 'A']                           #In Python there is no shortcut way/ syntax to directly store tuple in form of list or vice versa.\n",
    "list.sort()\n",
    "print(\"Sorted values of list is:\", list)"
   ]
  },
  {
   "cell_type": "code",
   "execution_count": 20,
   "id": "4df43e7d",
   "metadata": {},
   "outputs": [
    {
     "name": "stdout",
     "output_type": "stream",
     "text": [
      "The list contains a palindrome of elements\n",
      "The list contains a palindrome of elements\n",
      "The list DOESNOT contain a palindrome of elements\n"
     ]
    }
   ],
   "source": [
    "##PRACTICE QUESTIONS\n",
    "\n",
    "# Q4: WAP to check if a list contains a palindrome of elements. (Hint: use copy( ) method)\n",
    "#[1, 2 , 3, 2, 1]       [1, \"abc\", \"abc\", 1]\n",
    "\n",
    "list1 = [1, 2 , 3, 2, 1]  \n",
    "copy_list1 = list.copy()\n",
    "copy_list1.reverse()\n",
    "\n",
    "if(copy_list1 == list1):\n",
    "    print(\"The list contains a palindrome of elements\")\n",
    "else:\n",
    "    print(\"The list DOESNOT contain a palindrome of elements\")\n",
    "\n",
    "list2 = [1, \"abc\", \"abc\", 1]\n",
    "copy_list2 = list2.copy()\n",
    "copy_list2.reverse()\n",
    "\n",
    "if(copy_list2 == list2):\n",
    "    print(\"The list contains a palindrome of elements\")\n",
    "else:\n",
    "    print(\"The list DOESNOT contain a palindrome of elements\")\n",
    "\n",
    "#Eg of Non Palindrome list.\n",
    "list3 = [1, 2, 3]\n",
    "copy_list3 = list3.copy()\n",
    "copy_list3.reverse()\n",
    "\n",
    "if(copy_list3 == list3):\n",
    "    print(\"The list contains a palindrome of elements\")\n",
    "else:\n",
    "    print(\"The list DOESNOT contain a palindrome of elements\")"
   ]
  }
 ],
 "metadata": {
  "kernelspec": {
   "display_name": "Python 3 (ipykernel)",
   "language": "python",
   "name": "python3"
  },
  "language_info": {
   "codemirror_mode": {
    "name": "ipython",
    "version": 3
   },
   "file_extension": ".py",
   "mimetype": "text/x-python",
   "name": "python",
   "nbconvert_exporter": "python",
   "pygments_lexer": "ipython3",
   "version": "3.10.2"
  }
 },
 "nbformat": 4,
 "nbformat_minor": 5
}

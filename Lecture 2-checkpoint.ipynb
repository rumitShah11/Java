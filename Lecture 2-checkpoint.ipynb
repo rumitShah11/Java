{
 "cells": [
  {
   "cell_type": "code",
   "execution_count": 2,
   "id": "045ed156",
   "metadata": {},
   "outputs": [],
   "source": [
    "##STRINGS IN PYTHON\n",
    "\n",
    "# IMMUTABLE\n",
    "# Strings are used for storing text.\n",
    "# A string variable contains a collection of characters surrounded by double quotes.\n",
    "\n",
    "# For example:\n",
    "name = \"Chef\""
   ]
  },
  {
   "cell_type": "code",
   "execution_count": null,
   "id": "4e2d0eba",
   "metadata": {},
   "outputs": [],
   "source": [
    "# STRING OPERATIONS\n",
    "\n",
    "# 1. STRING CONCATENATION:\n",
    "\"\"\"\n",
    "Concatenation is the process of joining two strings together. In Python, we can concatenate strings using the + operator. \n",
    "\n",
    "The + sign can be used between strings to add them together to make a new string.This is called concatenation.\n",
    "Note: You can add spaces between words by using an empty \" \" with a space inside or by providing a space in the end of a word.\n",
    "For eg -\n",
    "x = \"Good\"\n",
    "y = \"Work\"\n",
    "print(x + \" \" + y)   #output will be: Good Work\n",
    "\n",
    "For example, if we have two strings, \"Hello\" and \"World, we can concatenate them using the + operator to get the string \"Hello World.\n",
    "\"\"\"\n",
    "\n",
    "# 2. STRING REPETITION:\n",
    "\"\"\"\n",
    "In Python, you can multiply strings to create a new string that repeats the original string a certain number of times. This technique is known as string repetition or string replication.\n",
    "The multiplication operator (*) is used to repeat a string a specified number of times.\n",
    "\n",
    "For eg:\n",
    "string = \"hello \"\n",
    "result = string * 3\n",
    "print(result) # output: hello hello hello\n",
    "\n",
    "# string is assigned the value `hello`.\n",
    "# string * 3 creates a new string by repeating `hello` three times.\n",
    "# The result, `hello hello hello`, is stored in the variable result and printed.\n",
    "\"\"\""
   ]
  },
  {
   "cell_type": "code",
   "execution_count": null,
   "id": "4998e1c4",
   "metadata": {},
   "outputs": [],
   "source": [
    "#STRING LENGTH\n",
    "# We can use the len() function to get the length of a string.\n",
    "\n",
    "\"\"\"\n",
    "For eg:\n",
    "greeting = \"hello\"\n",
    "len_string = len(greeting)\n",
    "# len_string now stores the value of the length of greeting\n",
    "\"\"\""
   ]
  },
  {
   "cell_type": "code",
   "execution_count": null,
   "id": "9ea90b42",
   "metadata": {},
   "outputs": [],
   "source": [
    "#LOWERCASE AND UPPERCASE FUNCTIONS IN STRINGS\n",
    "\n",
    "\"\"\"\n",
    "We have other helper functions to change a string to either lowercase or uppercase.\n",
    "\n",
    "lower(): This function converts all characters in the string to lowercase.\n",
    "upper(): This function converts all characters in the string to uppercase.\n",
    "\n",
    "For eg:\n",
    "name = 'CodeChef'\n",
    "lowercase_name = name.lower()\n",
    "uppercase_name = name.upper()\n",
    "print(lowercase_name) # Output: codechef\n",
    "print(uppercase_name) # Output: CODECHEF\n",
    "\"\"\""
   ]
  },
  {
   "cell_type": "code",
   "execution_count": 1,
   "id": "f321210a",
   "metadata": {},
   "outputs": [
    {
     "name": "stdout",
     "output_type": "stream",
     "text": [
      "My Name Is Rumit Shah. I Have Done My B.Tech From Vit Vellore\n"
     ]
    }
   ],
   "source": [
    "# TITLE IN STRINGS\n",
    "\n",
    "# title() method converts the first character of each word to uppercase and makes all other characters in lowercase. It is used to capitalize the first letter of each word in a string.\n",
    "\n",
    "# For eg:\n",
    "a = \"my name is rumit shah. i have done my b.tech from vit vellore\"\n",
    "print(a.title()) "
   ]
  },
  {
   "cell_type": "code",
   "execution_count": null,
   "id": "abb405ce",
   "metadata": {},
   "outputs": [],
   "source": [
    "# INDEXING IN STRINGS\n",
    "\n",
    "# So you learned that we can access the characters in a string by referring to its index number inside square brackets [ ]. This concept is known as indexing.\n",
    "\n",
    "# Indexing allows you to access individual characters in a string using their position.\n",
    "# The position is known as the index, and Python supports two kinds of indexing: POSITIVE AND NEGATIVE INDEXING.\n",
    "\n",
    "\"\"\"\n",
    "I. POSITIVE INDEXING: Starts from the beginning of the string. The first character is at index 0, the second is at index 1, and so on.\n",
    "s = \"Codechef\"\n",
    "print(s[0]) # Output: C\n",
    "print(s[1]) # Output: o\n",
    "\n",
    "\n",
    "II. NEGATIVE INDEXING: Starts from the end of the string. The last character is at index '-1', the second to last is at index '-2', and so on.\n",
    "s = \"Codechef\"\n",
    "print(s[-1]) # Output: f\n",
    "print(s[-2]) # Output: e\n",
    "\"\"\"\n",
    "\n",
    "\n",
    "# SLICING IN STRINGS (METHOD 1)\n",
    "\n",
    "# Slicing is a way to extract a part (substring) from a string.\n",
    "\n",
    "# When you specify a start index in a string slice, Python includes the character at that index as the starting point of your new substring.\n",
    "# The end index is exclusive. This means the character at the end index is not included in the resulting substring. The slice stops just before it.\n",
    "\"\"\"\n",
    "The syntax to do that is:\n",
    "substring = string[start:end]\n",
    "\n",
    "To get the first 4 characters of a string:\n",
    "str = 'Interesting'\n",
    "substring = str[0:4]\n",
    "print(substring)\n",
    "\n",
    "Output\n",
    "Inte\n",
    "\n",
    "Note that the character at position 0 (I) is included in the output, but the character at position 4 (r) is excluded.\n",
    "\"\"\"\n",
    "\n",
    "\n",
    "# SLICING IN STRINGS (METHOD 2)\n",
    "\n",
    "# There's another syntax to slice a string:\n",
    "# substring = string[start:end:step]\n",
    "\n",
    "# Step is how many characters you move forward each time you read. If your step is 1, you read one character at a time. If your step is 2, you skip one character and then read the next one.\n",
    "\n",
    "\"\"\"\n",
    "Let's say our string is 'abcde':\n",
    "s = 'abcde'\n",
    "print(s[0:4:2])                       # Output: ac\n",
    "\n",
    "Here, the step is set to 2, so it takes 2 jumps after reading each character.\n",
    "\n",
    "The character at the start index 0 is a. Then, it jumps by 2 characters and gets c.\n",
    "Once it reaches c, it stops because the end index is set to 4, so the traversal happens from index 0 to index 3.\n",
    "\"\"\""
   ]
  },
  {
   "cell_type": "code",
   "execution_count": 1,
   "id": "81f1bdc2",
   "metadata": {},
   "outputs": [
    {
     "data": {
      "text/plain": [
       "\"\\nstring = 'Chaf'\\nnew_string = string[:2] + 'e' + string[3:]\\nprint(new_string)                         # Output: Chef\\n# This code modifies the string 'Chaf' to 'Chef'\\n\\nHere's what's happening:\\n\\nstring[:2]   # Takes the first two letters from the original word i.e, 0 to 1. In this case, it extracts 'Ch'\\ne            # This is the new character we want to replace the existing character at index 2 with.\\nstring[3:]   # Takes all letters from the third index to the end. In this case, it extracts 'f'.\\n\\nBy concatenating these three parts together (string[:2] + 'e' + string[3:]), we create a new string where the original character at index 2 is replaced with 'e'.\\nSo, new_string becomes 'Chef'.\\n\""
      ]
     },
     "execution_count": 1,
     "metadata": {},
     "output_type": "execute_result"
    }
   ],
   "source": [
    "# CHANGING THE CHARACTERS USING SLICING (IMP)\n",
    "\n",
    "# You can also use slicing to change the value of a character.\n",
    "# We can achieve this by slicing the string into parts before and after the character to be changed, then concatenate these parts with the new character in between.\n",
    "\n",
    "\"\"\"\n",
    "string = 'Chaf'\n",
    "new_string = string[:2] + 'e' + string[3:]\n",
    "print(new_string)                         # Output: Chef\n",
    "# This code modifies the string 'Chaf' to 'Chef'\n",
    "\n",
    "Here's what's happening:\n",
    "\n",
    "string[:2]   # Takes the first two letters from the original word i.e, 0 to 1. In this case, it extracts 'Ch'\n",
    "e            # This is the new character we want to replace the existing character at index 2 with.\n",
    "string[3:]   # Takes all letters from the third index to the end. In this case, it extracts 'f'.\n",
    "\n",
    "By concatenating these three parts together (string[:2] + 'e' + string[3:]), we create a new string where the original character at index 2 is replaced with 'e'.\n",
    "So, new_string becomes 'Chef'.\n",
    "\"\"\""
   ]
  },
  {
   "cell_type": "code",
   "execution_count": null,
   "id": "337225ce",
   "metadata": {},
   "outputs": [],
   "source": [
    "# REVERSE SLICING\n",
    "\n",
    "\"\"\"\n",
    "# You can use [start:end:step] format to print a string in reverse. Let's see how.\n",
    "We know when slicing, the traversal (movement) always happens from left to right. But there is a way to traverse from right to left by mentioning a negative step.\n",
    "\n",
    "s='abcde'\n",
    "print(s[4:0:-1]) # Output: edcb\n",
    "When you mention a negative step the slicing starts from right to left.\n",
    "So, your start index will be 4 and the slicing stops at 1 because the end index is 0\n",
    "\n",
    "If you had to print the entire string in reverse then you write:\n",
    "\n",
    "print(s[::-1]) # Output: edcba\n",
    "When you mention empty start index it will start from the very beginning,\n",
    "And if the end index is empty it goes all the way till the end,\n",
    "And since the step is negative the slicing starts from the right and goes all the to the left\n",
    "Note:\n",
    "\n",
    "The only way you can traverse from right to left (in reverse) is by mentioning a negative step, in all other slicing formats the traversal always happens from left to right\n",
    "\"\"\""
   ]
  },
  {
   "cell_type": "code",
   "execution_count": null,
   "id": "ef97bf7f",
   "metadata": {},
   "outputs": [],
   "source": [
    "# REPLACING CHARACTERS IN STRINGS\n",
    "# In Python, strings are immutable, which means you cannot directly update or change a character in a string.\n",
    "\n",
    "\"\"\"\n",
    "However, you can create a new string with the desired changes.\n",
    "Here's an example of how you can replace the character:\n",
    "\n",
    "myString = \"Chaf\"\n",
    "myString_new = myString.replace('a', 'e')  \n",
    "print(myString_new)      #This string has the correct values\n",
    "\n",
    "Please note that, replace() method replaces all occurrences of the provided character.\n",
    "\"\"\""
   ]
  },
  {
   "cell_type": "code",
   "execution_count": null,
   "id": "793c9abc",
   "metadata": {},
   "outputs": [],
   "source": [
    "# CONDITIONALS STATEMENTS (If/ Else/ Elif)\n",
    "\n",
    "# Need of If-Else\n",
    "\"\"\"\n",
    "Many times our program needs to take different actions based on some conditions.\n",
    "\n",
    "For example, Let's suppose we have to write a program that takes the user's age and tells us if the user is old enough to vote or not. \n",
    "In this case our program will behave differently if the age entered by the user is below 18 and if the age is above 18.\n",
    "If it is above 18, our program will print \"Old enough to vote!\". Otherwise, it will print \"Not old enough to vote!\".\n",
    "\"\"\"\n",
    "# This different behavior in the program can be achieved through something called \"If/Else\" Statements in Python.\n",
    "# Proper Identation and use of Colon after the (If/Else) Statements used be used."
   ]
  },
  {
   "cell_type": "code",
   "execution_count": null,
   "id": "36e650e4",
   "metadata": {},
   "outputs": [],
   "source": [
    "#If & Else Statements\n",
    "\"\"\"\n",
    "We use conditions in code for decision making and controlling the flow of a program.\n",
    "IF and ELSE can be used together to create conditions. The syntax for this is:\n",
    "\n",
    "if condition:\n",
    "    # code to run if the condition is true\n",
    "else:\n",
    "    # code to run if the above condition is false\n",
    "\n",
    "    \n",
    "Condition can be any expression which you are trying to evaluate. A simple condition can be for eg:\n",
    "a = 4\n",
    "b = 5\n",
    "if a == b:\n",
    "    print(\"a and b are equal\")\n",
    "else:\n",
    "    print(\"a and b are not equal\")\n",
    "\n",
    "# Output:\n",
    "# a and b are not equal\n",
    "#`a == b` is used to check whether the values of variables `a` and `b` are equal. `==` is called a equal to operator.\n",
    "\"\"\"\n",
    "\n",
    "# Here's a table of common operators used in Python conditions:\n",
    "\"\"\"\n",
    "Operator\t                        Description\t                                   Example\n",
    "==\t                                Equal to\t                                    a == b\n",
    "!=\t                                Not equal to\t                                a != b\n",
    ">\t                                Greater than\t                                a > b\n",
    "<\t                                Less than\t                                    a < b\n",
    ">=\t                                Greater than or equal to\t                    a >= b\n",
    "<=\t                                Less than or equal to\t                        a <= b\n",
    "\"\"\"\n",
    "\n",
    "# IMPORTANT TERMS\n",
    "\"\"\"\n",
    "Two things to note here:\n",
    "a. There is some space before the print statements.\n",
    "b. There is a colon (:) after if and else statements.\n",
    "\n",
    "The space before print is called indentation. Indentation is used to define scope in Python. Because of the space before print, Python knows that it has to execute the print statement if the condition becomes True.\n",
    "The colon after IF and ELSE is also part of the syntax, you will get an error if you forget it.\n",
    "\"\"\""
   ]
  },
  {
   "cell_type": "code",
   "execution_count": null,
   "id": "b8c6e0ce",
   "metadata": {},
   "outputs": [],
   "source": [
    "# IF STATEMENT\n",
    "# The else statement is optional.\n",
    "\n",
    "\"\"\"\n",
    "Here is an example:\n",
    "grade = 95\n",
    "if grade >= 90:\n",
    "    print(\"You got an A\")\n",
    "\n",
    "# Output:\n",
    "# You got an A\n",
    "\n",
    "In this example, the if condition checks whether the grade is greater than or equal to 90. If the condition is True, the print statement inside the if block is executed, and it prints \"You got an A\".\n",
    "If the condition is False, the program skips the if block and moves on to the next part of the code (if any). Since there is no else block in this example, nothing happens if the condition is False.\n",
    "\"\"\"\n",
    "\n",
    "# The else block is useful when you want to specify an action if the if condition is not met, but it's not necessary if you only need to perform an action when the condition is True."
   ]
  },
  {
   "cell_type": "code",
   "execution_count": 1,
   "id": "a9614a9f",
   "metadata": {},
   "outputs": [
    {
     "data": {
      "text/plain": [
       "'\\nElif Statement means if the previous conditions were not true then try the next condition.\\n'"
      ]
     },
     "execution_count": 1,
     "metadata": {},
     "output_type": "execute_result"
    }
   ],
   "source": [
    "# ELIF STATEMENT\n",
    "\n",
    "\"\"\"\n",
    "In the previous problems, you saw how your code can have two different flows using one if and one else condition.\n",
    "Now what if you want to evaluate more than two conditions? In such case, one if and one else condition is not sufficient. That is where elif statements come in handy. Let's understand them in detail.\n",
    "\"\"\"\n",
    "\n",
    "# Elif Statement means if the previous conditions were not true then try the next condition.\n",
    "\n",
    "# DIFFERENCE BETWEEN IF AND ELIF:  (V.IMP)\n",
    "\"\"\"\n",
    "In Elif statement a condition is checked only when all the previous conditions are false. Once a condition is True no more conditions are checked.\n",
    "In multiple If Statement all the conditions are checked one by one independent of each other.\n",
    "\n",
    "In short, in cases where you have to check for multiple conditions and run some code based on each, you have to use elif.\n",
    "The elif keyword means \"if the previous conditions were not true, then try this condition\".\n",
    "\"\"\"\n",
    "\n",
    "# FOR eg:\n",
    "\"\"\"\n",
    "The following example illustrates usage of elif.\n",
    "\n",
    "grade = 85\n",
    "\n",
    "if grade >= 90:\n",
    "    print(\"You got an A\")\n",
    "elif grade >= 80:\n",
    "    print(\"You got a B\")\n",
    "\n",
    "# Output:\n",
    "# You got a B\n",
    "The code above works as follows\n",
    "\n",
    "If grade >= 90, then it will output: You got an A\n",
    "If grade is between 80 and 90 - it will output: You got a B\n",
    "If grade is less than 80 - there will be no output\n",
    "\"\"\""
   ]
  },
  {
   "cell_type": "code",
   "execution_count": null,
   "id": "9dd69fd4",
   "metadata": {},
   "outputs": [],
   "source": [
    "# ELSE STATEMENT\n",
    "\n",
    "# The else keyword handles the case that don't meet the conditions specified in the if and elif statements. It's like a \"none of the above\" option in programming.\n",
    "\n",
    "\n",
    "# In summary:\n",
    "\n",
    "# The if keyword means \"Check if this condition is true; if it is, then execute the following code.\"\n",
    "# The elif keyword means \"If the previous conditions were not true, then check this condition.\"\n",
    "# The else keyword means \"If none of the previous conditions were true, then execute the following code.\""
   ]
  },
  {
   "cell_type": "code",
   "execution_count": null,
   "id": "b2765352",
   "metadata": {},
   "outputs": [],
   "source": [
    "# AND STATEMENT USED IN CONDITIONALS STATEMENT\n",
    "\n",
    "\"\"\"\n",
    "Till now we used only one condition in our if or elif statements.\n",
    "But what if we want to use multiple conditions?\n",
    "Say we want to check if a person is female and older than 18 years of age, how can we do that in Python?\n",
    "\n",
    "In Python, the AND operator is a logical operator that allows you to combine multiple conditions.\n",
    "It returns TRUE if all the conditions are true, and FALSE if at least one condition is false.\n",
    "\n",
    "Let's start with a simple example.\n",
    "Imagine you have two variables: x and y.\n",
    "You want to check if both x is greater than 5 and y is less than 10.\n",
    "Here's how you would use the and operator to combine these conditions:\n",
    "\n",
    "x = 8\n",
    "y = 7\n",
    "if x > 5 and y < 10:\n",
    "    print(\"Both conditions are true!\")\n",
    "else:\n",
    "    print(\"At least one condition is false.\")\n",
    "\n",
    "# For the given values of x and y, the above program will return \"Both conditions are true!\".\n",
    "\"\"\""
   ]
  },
  {
   "cell_type": "code",
   "execution_count": null,
   "id": "6ab48c12",
   "metadata": {},
   "outputs": [],
   "source": [
    "# OR STATEMENT USED IN CONDITIONALS STATEMENT\n",
    "\n",
    "\"\"\"\n",
    "The OR operator is another logical operator in Python that allows you to combine multiple conditions.\n",
    "It returns TRUE if at least one of the conditions is true, and False if all the conditions are false.\n",
    "\n",
    "eg: Suppose you have a variable age that represents a person's age, and you want to check if the age is either less than 18 or greater than 65.\n",
    "age = 22\n",
    "if age < 18 or age > 65:\n",
    "    print(\"This person is either under 18 or over 65.\")\n",
    "else:\n",
    "    print(\"This person is between 18 and 65.\")\n",
    "\n",
    "# Output\n",
    "# This person is between 18 and 65.\n",
    "\"\"\""
   ]
  },
  {
   "cell_type": "code",
   "execution_count": 1,
   "id": "7732242f",
   "metadata": {},
   "outputs": [
    {
     "name": "stdout",
     "output_type": "stream",
     "text": [
      "Enter your First Name:Rumit\n",
      "Length of your First Name is: 5\n"
     ]
    }
   ],
   "source": [
    "##PRACTICE QUESTIONS\n",
    "\n",
    "# Q1: WAP to input user's first name and print its length.\n",
    "\n",
    "first_name = input(\"Enter your First Name:\")\n",
    "print(\"Length of your First Name is:\", len(first_name))"
   ]
  },
  {
   "cell_type": "code",
   "execution_count": 23,
   "id": "a38128a9",
   "metadata": {},
   "outputs": [
    {
     "name": "stdout",
     "output_type": "stream",
     "text": [
      "My n$me i$ Rumit $h$h.\n",
      "I am $ Computer $cience and Engineering $tuden$\n",
      "\n",
      "The number of times $ occoured is: 8\n"
     ]
    }
   ],
   "source": [
    "##PRACTICE QUESTIONS\n",
    "\n",
    "# Q2: WAP to find the occurance of '$' in a String.\n",
    "\n",
    "a = \"My n$me i$ Rumit $h$h.\\nI am $ Computer $cience and Engineering $tuden$\" \n",
    "print(a)\n",
    "print(\"\\nThe number of times $ occoured is:\", a.count(\"$\"))"
   ]
  },
  {
   "cell_type": "code",
   "execution_count": 8,
   "id": "4a0bba9e",
   "metadata": {},
   "outputs": [
    {
     "name": "stdout",
     "output_type": "stream",
     "text": [
      "Enter the student marks:76\n",
      "Grade scored by student is: C\n"
     ]
    }
   ],
   "source": [
    "##PRACTICE QUESTIONS\n",
    "\n",
    "# Q3: Marks v/s Grade assigned to students. Brief question present in the zerox copy.\n",
    "\n",
    "marks = int(input(\"Enter the student marks:\"))\n",
    "\n",
    "if(marks >= 90):\n",
    "    print(\"Grade scored by student is: A\")\n",
    "elif(marks >= 80 and marks < 90):\n",
    "    print(\"Grade scored by student is: B\")\n",
    "elif(marks >= 70 and marks < 80):\n",
    "    print(\"Grade scored by student is: C\")\n",
    "elif(marks >= 60):\n",
    "    print(\"Grade scored by student is: D\")\n",
    "else:\n",
    "    print(\"Failed\")\n"
   ]
  },
  {
   "cell_type": "code",
   "execution_count": 11,
   "id": "01869696",
   "metadata": {},
   "outputs": [
    {
     "name": "stdout",
     "output_type": "stream",
     "text": [
      "Enter a number:11\n",
      "Given number is Odd.\n"
     ]
    }
   ],
   "source": [
    "##PRACTICE QUESTIONS\n",
    "\n",
    "# Q4: WAP to check if a number entered by the user is odd or even.\n",
    "num = int(input(\"Enter a number:\"))\n",
    "\n",
    "if(num%2 == 0):\n",
    "    print(\"Given number is Even.\")\n",
    "else:\n",
    "    print(\"Given number is Odd.\")"
   ]
  },
  {
   "cell_type": "code",
   "execution_count": 14,
   "id": "e50b7f63",
   "metadata": {},
   "outputs": [
    {
     "name": "stdout",
     "output_type": "stream",
     "text": [
      "Enter number 1:10\n",
      "Enter number 2:20\n",
      "Enter number 3:15\n",
      "Number 2 is greatest of all.\n"
     ]
    }
   ],
   "source": [
    "##PRACTICE QUESTIONS\n",
    "\n",
    "# Q5: WAP to find the greatest of 3 numbers entered by the user.\n",
    "num1 = int(input(\"Enter number 1:\"))\n",
    "num2 = int(input(\"Enter number 2:\"))\n",
    "num3 = int(input(\"Enter number 3:\"))\n",
    "\n",
    "if(num1 > num2):\n",
    "    if(num1 > num3):\n",
    "        print(\"Number 1 is greatest of all.\")\n",
    "    else:\n",
    "        print(\"Number 3 is greatest of all.\")\n",
    "elif(num2 > num3):\n",
    "    print(\"Number 2 is greatest of all.\")\n",
    "else:\n",
    "    print(\"Number 3 is greatest of all.\")\n"
   ]
  },
  {
   "cell_type": "code",
   "execution_count": 17,
   "id": "9e91f8a7",
   "metadata": {},
   "outputs": [
    {
     "name": "stdout",
     "output_type": "stream",
     "text": [
      "Enter a number:38\n",
      "Number is NOT multiple of 7 and the number is 38\n"
     ]
    }
   ],
   "source": [
    "##PRACTICE QUESTIONS\n",
    "\n",
    "# Q6: WAP to check if a number is a multiple of 7 or not.\n",
    "num = int(input(\"Enter a number:\"))\n",
    "\n",
    "if(num%7 == 0):\n",
    "    print(\"Number is multiple of 7 and the number is\", num)\n",
    "else:\n",
    "    print(\"Number is NOT multiple of 7 and the number is\", num)"
   ]
  },
  {
   "cell_type": "code",
   "execution_count": 21,
   "id": "037f7852",
   "metadata": {},
   "outputs": [
    {
     "name": "stdout",
     "output_type": "stream",
     "text": [
      "Enter number 1:20\n",
      "Enter number 2:30\n",
      "Enter number 3:10\n",
      "Enter number 4:5\n",
      "The greatest number is num2 which is 30\n"
     ]
    }
   ],
   "source": [
    "##PRACTICE QUESTIONS\n",
    "\n",
    "# Q7: WAP to find the greatest of 4 numbers entered by the user.\n",
    "num1 = int(input(\"Enter number 1:\"))\n",
    "num2 = int(input(\"Enter number 2:\"))\n",
    "num3 = int(input(\"Enter number 3:\"))\n",
    "num4 = int(input(\"Enter number 4:\"))\n",
    "\n",
    "if(num1 > num2):\n",
    "    if(num1 > num3):\n",
    "        if(num1 > num4):\n",
    "            print(\"The greatest number is num1 which is\", num1)\n",
    "        else:\n",
    "            print(\"The greatest number is num4 which is\", num4)\n",
    "    elif(num3 > num4):\n",
    "        print(\"The greatest number is num3 which is\", num3)\n",
    "    else:  \n",
    "        print(\"The greatest number is num4 which is\", num4)\n",
    "        \n",
    "elif(num2 > num3 and num2 > num4):\n",
    "    print(\"The greatest number is num2 which is\", num2)\n",
    "elif(num3 > num4):\n",
    "    print(\"The greatest number is num3 which is\", num3)\n",
    "else:\n",
    "    print(\"The greatest number is num4 which is\", num4)"
   ]
  },
  {
   "cell_type": "code",
   "execution_count": null,
   "id": "2e1254bb",
   "metadata": {},
   "outputs": [],
   "source": []
  }
 ],
 "metadata": {
  "kernelspec": {
   "display_name": "Python 3",
   "language": "python",
   "name": "python3"
  },
  "language_info": {
   "codemirror_mode": {
    "name": "ipython",
    "version": 3
   },
   "file_extension": ".py",
   "mimetype": "text/x-python",
   "name": "python",
   "nbconvert_exporter": "python",
   "pygments_lexer": "ipython3",
   "version": "3.10.2"
  }
 },
 "nbformat": 4,
 "nbformat_minor": 5
}

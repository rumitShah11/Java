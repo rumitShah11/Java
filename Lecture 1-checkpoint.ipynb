{
 "cells": [
  {
   "cell_type": "code",
   "execution_count": 17,
   "id": "4cc0dee5",
   "metadata": {},
   "outputs": [],
   "source": [
    "# Python(High Level Language(HLL)) ----------> Computer(Machine Language OR Low Level Language(LLL))\n",
    "# Computers understands the language of 0 AND 1. So we use an Compiler or an Interpretor to transform our python code(HLL) to Machine understandable code(LLL). Here we are using VS Code as an Compiler."
   ]
  },
  {
   "cell_type": "code",
   "execution_count": 1,
   "id": "72615e0d",
   "metadata": {},
   "outputs": [],
   "source": [
    "# USE CASES OF PYTHON\n",
    "\n",
    "# 1. Python is simple & easy\n",
    "# 2. Free & Open Source\n",
    "# 3. High Level Language\n",
    "# 4. Developed by Guido van Rossum\n",
    "# 5. Portable --> Same code can be used in MAC, Windows, Linux.\n"
   ]
  },
  {
   "cell_type": "code",
   "execution_count": 1,
   "id": "28cda021",
   "metadata": {},
   "outputs": [
    {
     "name": "stdout",
     "output_type": "stream",
     "text": [
      "Hello World\n",
      "12\n",
      "12-Hello-3.14\n"
     ]
    }
   ],
   "source": [
    "# PRINT FUNCTION IN PYTHON\n",
    "# The print statement in Python is used to display output on the screen. You can use it to print numbers, text, or the results of expressions.\n",
    "# Adding one or multiple lines between the two print statements does not affect the output. Therefore, both codes are equivalent.\n",
    "\n",
    "print(\"Hello World\")\n",
    "\n",
    "print(12)\n",
    "\n",
    "# Each value will be separated by a space by default. If you want a different separator, you can use the sep parameter in the print() function, like this:\n",
    "\n",
    "print(12, \"Hello\", 3.14, sep=\"-\")\n"
   ]
  },
  {
   "cell_type": "code",
   "execution_count": null,
   "id": "beed1b37",
   "metadata": {},
   "outputs": [
    {
     "name": "stdout",
     "output_type": "stream",
     "text": [
      "My name is Rumit Shah. And I am learning python.\n",
      "23 and 69\n",
      "81\n"
     ]
    }
   ],
   "source": [
    "\"\"\"\"\n",
    "If we want to print two sentences in a same line then we use \",\" as an operation to execute it. Example is shown below\n",
    "\"\"\" \n",
    "\n",
    "print(\"My name is Rumit Shah.\", \"And I am learning python.\")\n",
    "print(\"23\", \"and 69\")\n",
    "print(23+58)"
   ]
  },
  {
   "cell_type": "code",
   "execution_count": 1,
   "id": "83067160",
   "metadata": {},
   "outputs": [
    {
     "name": "stdout",
     "output_type": "stream",
     "text": [
      "my name is : Rumit\n",
      "my hobbies are: Coding\n",
      "my age is : 21\n",
      "my salary is : 35000.5\n",
      "21\n"
     ]
    }
   ],
   "source": [
    "#VARIABLES IN PYHTON\n",
    "\n",
    "'''\n",
    "A variable is like a labelled box where you can store data. Imagine you have a box labeled \"age\" and you put the number 25 in it. In Python, you would do this by writing:\n",
    "age = 25\n",
    "\n",
    "When you write this, python creates a box(variable) with name age and stores 25 in that box(variable).\n",
    "    This process of creating a variable to store a value is called Declaration and\n",
    "    The process of setting its value for the first time is called Initialization.\n",
    "\n",
    "Here's the cool part: whenever you use age in your code, Python will remember it is 25. For example, if you write print(age), Python will show 25.\n",
    "print(age) # Output: 25\n",
    "'''\n",
    "\n",
    "name = \"Rumit\"\n",
    "age = 21\n",
    "hobbies = \"Coding\"\n",
    "salary = 35000.5\n",
    "\n",
    "#Variables printing in the form of sentences\n",
    "print(\"my name is :\",name)\n",
    "print(\"my hobbies are:\",hobbies) \n",
    "print(\"my age is :\",age)      \n",
    "print(\"my salary is :\",salary)\n",
    "\n",
    "#Variables stored inside an Variable\n",
    "age2 = age\n",
    "print(age2)\n"
   ]
  },
  {
   "cell_type": "code",
   "execution_count": 2,
   "id": "9b07b8e4",
   "metadata": {},
   "outputs": [],
   "source": [
    "#DECLARING A VARIABLE IN PYTHON\n",
    "\n",
    "# There are many different types of variables in Python. The type of a variable is defined by the kind of value it stores.\n",
    "# Some variable types in Python are as follows:\n",
    "\n",
    "# 1. Numeric variables - hold integers and decimal values\n",
    "age = 25\n",
    "temperature = 98.6\n",
    "\n",
    "# 2. String variables - Stores a sequence of characters enclosed in single or double quotes\n",
    "name = \"John Doe\"\n",
    "message = 'Hello, world!'\n",
    "\n",
    "# 3. Boolean variables - only hold the values true and false\n",
    "is_true = True\n",
    "is_false = False\n",
    "\n",
    "# 4. List variables - Stores a collection of items, which can be of different types.\n",
    "numbers = [1, 2, 3, 4, 5]\n",
    "fruits = ['apple', 'banana', 'orange']\n",
    "\n",
    "# 5. Tuple variables\n",
    "coordinates = (10, 20)\n",
    "\n",
    "# 6. Dictionary variables\n",
    "person = {'name': 'Alice', 'age': 30}\n",
    "\n",
    "# 7. Set variables\n",
    "unique_numbers = {1, 2, 3}\n",
    "\n",
    "# 8. None variable\n",
    "empty_value = None"
   ]
  },
  {
   "cell_type": "code",
   "execution_count": 9,
   "id": "5416fb0c",
   "metadata": {},
   "outputs": [
    {
     "data": {
      "text/plain": [
       "\"\\nWe learned that variable is a labelled box which can store many different types of values. You can also change the value of a variable in your code.\\nFor example:\\nage = 25\\nprint(age)\\n\\n# Update age\\nage = 26\\nprint(age)\\n\\nThe above code will output\\n25\\n26\\n\\nWe are going to use variables all the time in the coming lessons. So let's learn a few more stuff about them.\\n\\nRules for Python variable names:\\n    1. A variable name can only contain alphabets, numbers and underscores (ie. A-Z, a-z, 0-9, and _).\\n    2. A variable name cannot start with a number.\\n    3. A variable name cannot have spaces in between.\\nVariable names are case-sensitive (age, Age and AGE are three different variables).\\n\""
      ]
     },
     "execution_count": 9,
     "metadata": {},
     "output_type": "execute_result"
    }
   ],
   "source": [
    "#PROPERTIES OF VARIABLES IN PYTHON\n",
    "\n",
    "\"\"\"\n",
    "We learned that variable is a labelled box which can store many different types of values. You can also change the value of a variable in your code.\n",
    "For example:\n",
    "age = 25\n",
    "print(age)\n",
    "\n",
    "# Update age\n",
    "age = 26\n",
    "print(age)\n",
    "\n",
    "The above code will output\n",
    "25\n",
    "26\n",
    "\n",
    "\n",
    "# RULES FOR DECLARING A VARIABLE IN PYTHON\n",
    "We are going to use variables all the time in the coming lessons. So let's learn a few more stuff about them.\n",
    "\n",
    "Rules for Python variable names:\n",
    "    1. A variable name can only contain alphabets, numbers and underscores (ie. A-Z, a-z, 0-9, and _).\n",
    "    2. A variable name cannot start with a number.\n",
    "    3. A variable name cannot have spaces in between.\n",
    "Variable names are case-sensitive (age, Age and AGE are three different variables).\n",
    "\"\"\""
   ]
  },
  {
   "cell_type": "code",
   "execution_count": 10,
   "id": "13abbe72",
   "metadata": {},
   "outputs": [
    {
     "name": "stdout",
     "output_type": "stream",
     "text": [
      "<class 'str'>\n",
      "<class 'int'>\n",
      "<class 'float'>\n",
      "<class 'bool'>\n",
      "<class 'NoneType'>\n"
     ]
    }
   ],
   "source": [
    "#DATA TYPES IN PYTHON\n",
    "\n",
    "name = \"Rumit Shah\"  #STRING DATATYPE : The string type is used to store a sequence of characters, i.e. text.\n",
    "age = 21             #INT DATATYPE\n",
    "salary = 35000.50    #FLOAT DATATYPE\n",
    "isheMale = True      #BOOLEAN DATATYPE\n",
    "married = None       #NONE DATATYPE    \n",
    "\n",
    "print(type(name))\n",
    "print(type(age))\n",
    "print(type(salary))\n",
    "print(type(isheMale))\n",
    "print(type(married))"
   ]
  },
  {
   "cell_type": "code",
   "execution_count": null,
   "id": "d90d828d",
   "metadata": {},
   "outputs": [],
   "source": [
    "# TYPE CONVERSION IN PYTHON:\n",
    "# We can also convert one data type to another as per our use. This is called Type Conversion.\n",
    "\n",
    "\"\"\"\n",
    "There are two types of Type Conversion.\n",
    "\n",
    "1. Implicit Type Conversion\n",
    "Here, Python automatically converts a variable from one data type to another without the user needing to tell it to do so.\n",
    "\n",
    "x = 7\n",
    "x = x/2\n",
    "print(x) # Output: 3.5\n",
    "Here's what happens:\n",
    "\n",
    "Variable x is initially an integer with a value of 7\n",
    "When x is divided by 2, the result 3.5 is a float (decimal number)\n",
    "Python automatically converts x from an integer to a float\n",
    "\n",
    "2. Explicit Type Conversion\n",
    "Here, we manually convert a variable from one data type to another as per our use using Python's built-in functions\n",
    "\n",
    "num = '12'\n",
    "num = int(num)\n",
    "num = num + num\n",
    "Here's what happens:\n",
    "\n",
    "Initially, num is a string with the value '12'.\n",
    "We use the int() function to convert num from a string to an integer.\n",
    "After conversion, num becomes 12 (an integer), and we can perform arithmetic operations on it. \n",
    "If we hadn't converted num from a string to an integer, the operation num + num would have resulted in concatenation, producing '1212' instead of 24.\n",
    "\"\"\""
   ]
  },
  {
   "cell_type": "code",
   "execution_count": null,
   "id": "4c2707aa",
   "metadata": {},
   "outputs": [],
   "source": [
    "# IMP EXAMPLE\n",
    "\"\"\"\n",
    "QUESTION : What is the output of the following code:\n",
    "\n",
    "print(int(5/2))\n",
    "What is the output of the following code\n",
    "a) 2.5\n",
    "b) 2\n",
    "c) 5/2\n",
    "d) 3\n",
    "\n",
    "Correct Answer:\n",
    "2\n",
    "\n",
    "Explanation:\n",
    "The code calculates 5/2 which is 2.5. The int() function in Python converts a float to an integer by truncating the decimal part, not by rounding. Therefore, int(2.5) results in 2.\n",
    "TRUNCATE : ROUNDING TO THE MINIMUM INTEGER.\n",
    "\"\"\""
   ]
  },
  {
   "cell_type": "code",
   "execution_count": 11,
   "id": "25590551",
   "metadata": {},
   "outputs": [
    {
     "name": "stdout",
     "output_type": "stream",
     "text": [
      "7\n"
     ]
    }
   ],
   "source": [
    "#KEYWWORDS IN PYHTON\n",
    "\n",
    "\"\"\"\n",
    "Keywords in python can be of various types which can be learned while learning python.\n",
    "But the important thing is that VARIABLES in python cant be same as the KEYWORDS. \n",
    "eg: True, False, None \n",
    "\"\"\"\n",
    "\n",
    "#Python is a CASE SENSITIVE LANGUAGE.\n",
    "\n",
    "#Q1: PRINT THE SUM OF TWO NUMBERS\n",
    "a = 2\n",
    "b = 5\n",
    "sum = a + b\n",
    "print(sum)"
   ]
  },
  {
   "cell_type": "code",
   "execution_count": 1,
   "id": "4aceb44d",
   "metadata": {},
   "outputs": [
    {
     "name": "stdout",
     "output_type": "stream",
     "text": [
      "7\n",
      "3\n",
      "10\n",
      "2.5\n",
      "25\n",
      "1\n",
      "2\n",
      "False\n",
      "True\n",
      "True\n",
      "False\n",
      "True\n",
      "False\n",
      "15\n"
     ]
    },
    {
     "data": {
      "text/plain": [
       "'\\nHere are the basic logical operators and their usage:\\n\\nI. Logical AND:\\n    The AND operator returns True only if both conditions are True.\\n\\n    a = 7\\n    condition = a > 5 and a < 10  # Only True if a is greater than 5 AND less than 10\\n    print(condition)  # Output: True\\n\\nII. Logical OR:\\n    The OR operator returns True if at least one of the conditions is True.\\n\\n    a = 7\\n    condition = a > 10 or a < 5  # True if a is greater than 10 OR less than 5\\n    print(condition)  # Output: False\\n\\nIII. Logical NOT:\\n    The NOT operator reverses the result of the condition. If the condition is True, `not` makes it False. If the condition is False, `not` makes it True.\\n\\n    a = 7\\n    condition = not(a > 5)  # Reverses the result of a > 5\\n    print(condition)  # Output: False\\n'"
      ]
     },
     "execution_count": 1,
     "metadata": {},
     "output_type": "execute_result"
    }
   ],
   "source": [
    "#OPERATORS IN PYTHON\n",
    "\n",
    "# 1. ARITHMETIC OPERATORS(+, -, *, /, %, **, //)\n",
    "a = 5\n",
    "b = 2\n",
    "\n",
    "print(a + b) # You can use the plus sign (+) to add two numbers.\n",
    "print(a - b) # You can use the minus sign (-) to subtract one number from another.\n",
    "print(a * b) # You can use the asterisk (*) to multiply two numbers.\n",
    "print(a / b) #Division value will always result as FLOAT DATATYPE. This will give you a float (decimal number) as a result.\n",
    "print(a ** b) #Meaning: a^b(a Power b)\n",
    "print(a % b) #Modules Operator(Calculate Remainder)\n",
    "print(a // b) #Floor Division Operator(Calculate Quotient). In this example, 5 divided by 2 equals 2.5. The integer division returns only the whole number part, which is 2.\n",
    "\n",
    "\n",
    "# 2. RELATIONAL/COMPARISION OPERATORS(==, !=, >, <, >=, <=) \n",
    "# Relational operators help you compare two values or variables. They give you a result of either True or False based on the comparison.\n",
    "\n",
    "a = 40\n",
    "b = 20\n",
    "\n",
    "print(a == b) #False\n",
    "print(a != b) #True\n",
    "print(a >= b) #True\n",
    "print(a <= b) #False\n",
    "print(a >b) #True\n",
    "print(a < b) #False\n",
    "\n",
    "\n",
    "# 3. ASSIGNMENT OPERATORS(=, +=, -=, *=, /=, %=, **=) \n",
    "# Assignment operators are used to set or update the value of a variable. \n",
    "\"\"\"\n",
    "There are 2 types of assignment operators.\n",
    "\n",
    "1. Basic assignment operators: \n",
    "    The basic assignment operator is the = sign. It assigns the value on its right to the variable on its left. Here's a simple example:\n",
    "    length = 15\n",
    "    In this example, the = operator sets the value of length to 15.\n",
    "\n",
    "    \n",
    "2. Compound assignment operators:\n",
    "Compound Assignment Operators combine arithmetic operations with assignment. They are just a shorthand way of performing operations on a variable and assigning the result back to the variable.\n",
    "\n",
    "Without using the compound assignment operators we write -\n",
    "length = 15\n",
    "length = length + 5  # Updates length by adding 5 to its current value\n",
    "\n",
    "\n",
    "The same thing using Compound Assignment Operator would be written as-\n",
    "length = 15\n",
    "length += 5  # Shorthand for length = length + 5\n",
    "print(length)  # Output: 20\n",
    "\"\"\"\n",
    "num = 10\n",
    "num += 5      #Short form of (num = num + 5) = (num += 5)\n",
    "print(num)\n",
    "#Similarly we can do it with every other assignment operators\n",
    "\n",
    "\n",
    "# 4. LOGICAL OPERATORS(not, and, or)\n",
    "#Logical operators help you combine multiple conditions to check if they are True or False. They are often used to make decisions based on multiple criteria.\n",
    "\n",
    "\"\"\"\n",
    "Here are the basic logical operators and their usage:\n",
    "\n",
    "I. Logical AND:\n",
    "    The AND operator returns True only if both conditions are True.\n",
    "\n",
    "    a = 7\n",
    "    condition = a > 5 and a < 10  # Only True if a is greater than 5 AND less than 10\n",
    "    print(condition)  # Output: True\n",
    "\n",
    "II. Logical OR:\n",
    "    The OR operator returns True if at least one of the conditions is True.\n",
    "\n",
    "    a = 7\n",
    "    condition = a > 10 or a < 5  # True if a is greater than 10 OR less than 5\n",
    "    print(condition)  # Output: False\n",
    "\n",
    "III. Logical NOT:\n",
    "    The NOT operator reverses the result of the condition. If the condition is True, `not` makes it False. If the condition is False, `not` makes it True.\n",
    "\n",
    "    a = 7\n",
    "    condition = not(a > 5)  # Reverses the result of a > 5\n",
    "    print(condition)  # Output: False\n",
    "\"\"\"\n",
    "\n",
    "# ANY NON-ZERO NUMBER IS TRUE IN BOOLEAN CONTEXT."
   ]
  },
  {
   "cell_type": "code",
   "execution_count": null,
   "id": "4431da73",
   "metadata": {},
   "outputs": [],
   "source": [
    "# PRECEDENCE AND ASSOCIATIVITY\n",
    "\n",
    "\"\"\"\n",
    "1. Operator precedence:\n",
    "\n",
    "Operator precedence determines the order in which different operators are evaluated in an expression.\n",
    "Operators with higher precedence are evaluated before those with lower precedence.\n",
    "This concept is similar to the rules of arithmetic, where multiplication and division takes precedence over addition and subtraction.\n",
    "\n",
    "Here's the order of operator precedence in Python from highest to lowest:\n",
    "\n",
    "Parentheses: ()\n",
    "Exponentiation: **\n",
    "Unary operators: ~\n",
    "Multiplication, division, floor division, and modulus operators: *, /, //, %\n",
    "Addition and subtraction operators: +, -\n",
    "Relational operators: <, >, <=, >=\n",
    "Equality operators: ==, !=\n",
    "Logical AND operator: and\n",
    "Logical OR operator: or\n",
    "Assignment operators: =, +=, -= ... and so on\n",
    "\n",
    "\n",
    "2. Operator Associativity:\n",
    "\n",
    "When operators of the same precedence appear in an expression, associativity determines the order in which they are evaluated. Operators can be either left-associative or right-associative.\n",
    "\n",
    "I. Left-Associative:\n",
    "On Left-Associative Operators, operations are performed from left to right. Most operators are left-associative. For instance, in (A - B + C), addition and subtraction, being left-associative, will first evaluate (A - B), and then add (C) to the result.\n",
    "\n",
    "result = 10 - 2 + 3  # Both - and + have the same precedence and are left-associative\n",
    "print(result)              # Output: 11 ((10 - 2) + 3 is evaluated as 8 + 3)\n",
    "\n",
    "result = 10 / 2 * 3  # Both / and * have the same precedence and are left-associative\n",
    "print(result)             # Output: 15.0 ((10 / 2) * 3 is evaluated as 5.0 * 3)\n",
    "\n",
    "II. Right-Associative:\n",
    "Although less common, some operators are right-associative, meaning they are evaluated from right to left. An example is the exponentiation operator **.\n",
    "In (2 ** 2 ** 3) Python will first calculate (2 ** 3) which is 8 and then calculate 2^8 which evaluates to 256.\n",
    "\n",
    "result = 2 ** 2 ** 3        # Exponentiation is right-associative\n",
    "print(result)               # Output: 256 (2 ** (2 ** 3) is evaluated as 2 ** 8)\n",
    "\"\"\"\n",
    "\n",
    "# Understanding these principles is crucial for correctly interpreting and writing Python programming expressions."
   ]
  },
  {
   "cell_type": "code",
   "execution_count": 14,
   "id": "9a0ca073",
   "metadata": {},
   "outputs": [
    {
     "name": "stdout",
     "output_type": "stream",
     "text": [
      "5\n",
      "2\n",
      "2.5\n"
     ]
    }
   ],
   "source": [
    "#INPUT TAKING IN PYHTON\n",
    "\n",
    "#input() function is used to take input from the user. Means if we want to take User Input input() function help us to take it.\n",
    "\n",
    "a = input(\"Enter a number:\")  \n",
    "print(a)\n",
    "#Default DATAYTYPE used for input() function is str(string) Datatype.\n",
    "\n",
    "\n",
    "#If we want to take integer input then we have to use int() function with input() function\n",
    "x = int(input(\"Enter a number2:\"))\n",
    "print(x)\n",
    "\n",
    "\n",
    "#Simlarly if we want to take input as float value then we have to use float() with input() function.\n",
    "b = float(input(\"Enter a complex digit:\"))\n",
    "print(b)"
   ]
  },
  {
   "cell_type": "code",
   "execution_count": null,
   "id": "81f6839f",
   "metadata": {},
   "outputs": [],
   "source": [
    "# CONVERTING INPUT DATATYPE\n",
    "\n",
    "\"\"\"\n",
    "The input() function assumes that the input is a string. This means whatever the user types, whether it is letters, numbers, or special characters, input() directly reads it as a string.\n",
    "So, if you need to work with numbers, you have to convert the input to an integer or a float. We learned how to convert types in one of our previous lessons. We use the same method to convert the input to an integer:\n",
    "\n",
    "num1 = int(input())\n",
    "num2 = int(input())\n",
    "print(num1 + num2)\n",
    "\n",
    "If the user enters 2 as the value of num1 and 3 as the value of num2, the output will be 5. However, if we don't convert it to an integer, the output will be 23 because input() takes \n",
    "the input as a string, and it will perform string concatenation instead of integer addition.\n",
    "\n",
    "Just like how we used the int() function to convert input to an integer value, we can read values of any datatype. For example, if you want to read float values, you can use the float() function.\n",
    "\"\"\""
   ]
  },
  {
   "cell_type": "code",
   "execution_count": 2,
   "id": "5783ea81",
   "metadata": {},
   "outputs": [],
   "source": [
    "# MULTIPLE STRINGS INPUTS (IMP)\n",
    "\n",
    "\"\"\"\n",
    "You've seen how to use the input() function to take input multiple times, accepting one value per line. However, sometimes you need to accept multiple inputs in a single line. \n",
    "To do this, you can use the split() function.\n",
    "\n",
    "For example, if the user inputs the following:\n",
    "Good Great Awesome\n",
    "\n",
    "You can read these inputs like this:\n",
    "a, b, c = input().split()\n",
    "\n",
    "The split() function breaks this single line of input into multiple parts. \n",
    "By default, split() divides the input based on spaces, so each word separated by a space is treated as an independent input and stored in different variables.\n",
    "\"\"\"\n",
    "\n",
    "\n",
    "# MULTIPLE INTEGER INPUTS (IMP)\n",
    "\n",
    "\"\"\"\n",
    "The syntax you saw in the previous lesson takes string inputs. But if you need to take multiple integer inputs, you'll have to convert them separately.\n",
    "You cannot call the int function directly on the split input as int function can only be called on one value as a time and split input has multiple values.\n",
    "\n",
    "To handle this, you can use the map function to convert the split inputs to integers in one step. Here's how you can do it:\n",
    "\n",
    "a, b, c = map(int, input().split())   # assigns integer input values to variables a, b and c\n",
    "\n",
    "What map does is, it takes the list of multiple inputs and applies the integer function to each input in the list.\n",
    "\"\"\""
   ]
  },
  {
   "cell_type": "code",
   "execution_count": 2,
   "id": "d2d31230",
   "metadata": {},
   "outputs": [
    {
     "name": "stdout",
     "output_type": "stream",
     "text": [
      "1 2 3 4 5\n",
      "11 22 33 44 55\n",
      "1 23 456 789 101112\n"
     ]
    }
   ],
   "source": [
    "# TAKING MULTIPLE INPUTS LIKE 5, 100 etc AT ONE TIME             (V.IMP)\n",
    "\n",
    "\"\"\"\n",
    "For taking a lot of test cases as input, we use loops.\n",
    "In the last problem, we told you that the number of test cases was 5.\n",
    "Usually the number of test cases is the first input you take and then take that input for each test case.\n",
    "\n",
    "Consider this test case:\n",
    "2\n",
    "4\n",
    "5\n",
    "\n",
    "Here 2 is the number of test cases. 4 and 5 are the the input for 1st and 2nd test case respectively. A code for taking and printing this test cases will be:\n",
    "\n",
    "t = int(input())\n",
    "for i in range(t):\n",
    "    n = int(input())\n",
    "    print(n)\n",
    "\n",
    "# Output\n",
    "4\n",
    "5\n",
    "\n",
    "    a. We took the input for 't', the number of test cases in the first line.\n",
    "    b. Then we ran a loop which will go from 0 to '(t-1)', using the range function.\n",
    "    c. For each test case, we input the value in 'n' and printed it.\n",
    "\"\"\"\n",
    "\n",
    "# For EG:\n",
    "t = int(input())       \n",
    "\n",
    "for i in range(t):     \n",
    "    # accept 2 integers on the 1st line using map\n",
    "    A, B = map(int, input().split())\n",
    "\n",
    "    # accept 3 integers on the 2nd line using map\n",
    "    C, D, E = map(int, input().split())\n",
    "    \n",
    "    # output the 5 integers on a single line for each test case\n",
    "    print(A, B, C, D, E)\n",
    "\n"
   ]
  },
  {
   "cell_type": "code",
   "execution_count": 5,
   "id": "2b864965",
   "metadata": {},
   "outputs": [
    {
     "name": "stdout",
     "output_type": "stream",
     "text": [
      "107\n"
     ]
    }
   ],
   "source": [
    "# ASCII VALUE PRINTING BY ADDING TWO INPUTS\n",
    "\"\"\"\n",
    "What is the output of the following code?\n",
    "\n",
    "first, second = input().split()\n",
    "print((ord(first) + ord(second)))\n",
    "\n",
    "OPTIONS:\n",
    "    1. Prompts the user to enter two characters and prints their concatenation\n",
    "    2. Prompts the user to enter two characters and prints the ASCII value of their sum\n",
    "    3. Prompts the user to enter a string and prints its length\n",
    "    4. Results in a runtime error\n",
    "\n",
    "ANSWER:\n",
    "    Option 2: Prompts the user to enter two characters and prints the ASCII value of their sum\n",
    "\n",
    "    EXPLANATION:\n",
    "        Your selected option is correct. The code prompts the user to enter two characters and prints the ASCII value of their sum. \n",
    "        \n",
    "        Here's a breakdown:\n",
    "            a. input().split() takes a string input and splits it into two parts, assuming the user enters two characters separated by space.\n",
    "            b. ord(first) and ord(second) convert the first and second characters into their corresponding ASCII values.\n",
    "            c. print((ord(first) + ord(second))) prints the sum of these ASCII values.\n",
    "        Make sure that the input consists of exactly two characters separated by a space for the code to work as expected.\n",
    "\"\"\"\n",
    "# ord() returns the Unicode code point of a character\n",
    "first, second = input().split()\n",
    "print((ord(first) + ord(second)))"
   ]
  },
  {
   "cell_type": "code",
   "execution_count": null,
   "id": "c8558d21",
   "metadata": {},
   "outputs": [
    {
     "name": "stdout",
     "output_type": "stream",
     "text": [
      "Enter number 1:25\n",
      "Enter number 2:25\n",
      "Sum of two numbers is: 50\n"
     ]
    }
   ],
   "source": [
    "##PRACTICE QUESTIONS\n",
    "\n",
    "# Q1: WAP to input 2 numbers and print their sum.\n",
    "a = int(input(\"Enter number 1:\"))\n",
    "b = int(input(\"Enter number 2:\"))\n",
    "sum = a + b\n",
    "print(\"Sum of two numbers is:\", sum)"
   ]
  },
  {
   "cell_type": "code",
   "execution_count": null,
   "id": "3fdf579a",
   "metadata": {},
   "outputs": [
    {
     "name": "stdout",
     "output_type": "stream",
     "text": [
      "Side of Square(in cm) is:5\n",
      "area = 25.0\n"
     ]
    }
   ],
   "source": [
    "##PRACTICE QUESTIONS\n",
    "\n",
    "# Q2: WAP to input side of a square and print its area.\n",
    "side = float(input(\"Side of Square(in cm) is:\"))\n",
    "print(\"area =\", side * side)"
   ]
  },
  {
   "cell_type": "code",
   "execution_count": null,
   "id": "60a00fe7",
   "metadata": {},
   "outputs": [
    {
     "name": "stdout",
     "output_type": "stream",
     "text": [
      "Enter number 1:6\n",
      "Enter number 2:6\n",
      "Average of two numbers is: 6.0\n"
     ]
    }
   ],
   "source": [
    "##PRACTICE QUESTIONS\n",
    "\n",
    "# Q3: WAP to input 2 floating point numbers and print their average.\n",
    "num1 = float(input(\"Enter number 1:\"))\n",
    "num2 = float(input(\"Enter number 2:\"))\n",
    "average = (num1 + num2) / 2\n",
    "\n",
    "print(\"Average of two numbers is:\", average)"
   ]
  },
  {
   "cell_type": "code",
   "execution_count": null,
   "id": "f7bb0076",
   "metadata": {},
   "outputs": [
    {
     "name": "stdout",
     "output_type": "stream",
     "text": [
      "Enter number 1:20\n",
      "Enter number 2:50\n",
      "False\n"
     ]
    }
   ],
   "source": [
    "##PRACTICE QUESTIONS\n",
    "\n",
    "# Q4: WAP to input 2 int numbers a & b.\n",
    "#Print True if a is greater than or equal to b. if not print False.\n",
    "a = int(input(\"Enter number 1:\"))\n",
    "b = int(input(\"Enter number 2:\"))\n",
    "\n",
    "print(a >= b)"
   ]
  },
  {
   "cell_type": "code",
   "execution_count": 1,
   "id": "75dc2b45",
   "metadata": {},
   "outputs": [
    {
     "name": "stdout",
     "output_type": "stream",
     "text": [
      "231\n"
     ]
    }
   ],
   "source": [
    "# ASCII VALUE PRINTING BY ADDING TWO INPUTS\n",
    "\"\"\"\n",
    "What is the output of the following code?\n",
    "\n",
    "first, second = input().split()\n",
    "print((ord(first) + ord(second)))\n",
    "\n",
    "OPTIONS:\n",
    "    1. Prompts the user to enter two characters and prints their concatenation\n",
    "    2. Prompts the user to enter two characters and prints the ASCII value of their sum\n",
    "    3. Prompts the user to enter a string and prints its length\n",
    "    4. Results in a runtime error \n",
    "\n",
    "ANSWER:\n",
    "    Option 2: Prompts the user to enter two characters and prints the ASCII value of their sum\n",
    "\n",
    "    EXPLANATION:\n",
    "        Your selected option is correct. The code prompts the user to enter two characters and prints the ASCII value of their sum. \n",
    "        \n",
    "        Here's a detailed breakdown:\n",
    "            a. input().split() takes a string input and splits it into two parts, assuming the user enters two characters separated by space.\n",
    "            b. ord(first) and ord(second) convert the first and second characters into their corresponding ASCII values.\n",
    "            c. print((ord(first) + ord(second))) prints the sum of these ASCII values.\n",
    "        \n",
    "        For example:\n",
    "        - If the user inputs \"A B\", the ASCII values are:\n",
    "          'A' = 65, 'B' = 66\n",
    "          The sum is 65 + 66 = 131, so the output will be 131.\n",
    "        \n",
    "        - If the user inputs \"1 2\", the ASCII values are:\n",
    "          '1' = 49, '2' = 50\n",
    "          The sum is 49 + 50 = 99, so the output will be 99.\n",
    "\n",
    "        It's important to note that this code assumes the input will always be two characters separated by a space. If the input doesn't match this format (e.g., more than two characters, or no space), it may result in an error.\n",
    "\n",
    "        Also, remember that ord() function works with single characters. If you try to use it with a string of length greater than 1, it will raise a TypeError.\n",
    "\"\"\"\n",
    "first, second = input().split()\n",
    "print((ord(first) + ord(second)))"
   ]
  }
 ],
 "metadata": {
  "kernelspec": {
   "display_name": "Python 3",
   "language": "python",
   "name": "python3"
  },
  "language_info": {
   "codemirror_mode": {
    "name": "ipython",
    "version": 3
   },
   "file_extension": ".py",
   "mimetype": "text/x-python",
   "name": "python",
   "nbconvert_exporter": "python",
   "pygments_lexer": "ipython3",
   "version": "3.10.2"
  }
 },
 "nbformat": 4,
 "nbformat_minor": 5
}
